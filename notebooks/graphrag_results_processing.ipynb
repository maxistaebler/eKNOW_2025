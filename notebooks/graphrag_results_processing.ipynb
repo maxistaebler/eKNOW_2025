{
 "cells": [
  {
   "cell_type": "code",
   "execution_count": 1,
   "metadata": {},
   "outputs": [],
   "source": [
    "import sys\n",
    "# caution: path[0] is reserved for script path (or '' in REPL)\n",
    "sys.path.insert(1, '../src')\n",
    "sys.path.insert(1, '../prompts')\n",
    "sys.path.insert(1, '../input')\n",
    "\n",
    "from pathlib import Path\n",
    "import hashlib\n",
    "import json\n",
    "import pandas as pd\n",
    "from arango import ArangoClient\n",
    "from arango import DocumentInsertError\n",
    "import chromadb\n",
    "import ollama"
   ]
  },
  {
   "cell_type": "markdown",
   "metadata": {},
   "source": [
    "# Load results"
   ]
  },
  {
   "cell_type": "code",
   "execution_count": 2,
   "metadata": {},
   "outputs": [],
   "source": [
    "entities = pd.read_parquet('../ragtest/output/create_final_entities.parquet')\n",
    "relationships = pd.read_parquet('../ragtest/output/create_final_relationships.parquet')\n",
    "community_reports = pd.read_parquet('../ragtest/output/create_final_community_reports.parquet')\n",
    "communities = pd.read_parquet('../ragtest/output/create_final_communities.parquet')\n",
    "text_units = pd.read_parquet('../ragtest/output/create_final_text_units.parquet')\n",
    "documents = pd.read_parquet('../ragtest/output/create_final_documents.parquet')\n",
    "# nodes = pd.read_parquet('../ragtest/output/create_final_nodes.parquet')"
   ]
  },
  {
   "cell_type": "code",
   "execution_count": 3,
   "metadata": {},
   "outputs": [
    {
     "data": {
      "text/html": [
       "<div>\n",
       "<style scoped>\n",
       "    .dataframe tbody tr th:only-of-type {\n",
       "        vertical-align: middle;\n",
       "    }\n",
       "\n",
       "    .dataframe tbody tr th {\n",
       "        vertical-align: top;\n",
       "    }\n",
       "\n",
       "    .dataframe thead th {\n",
       "        text-align: right;\n",
       "    }\n",
       "</style>\n",
       "<table border=\"1\" class=\"dataframe\">\n",
       "  <thead>\n",
       "    <tr style=\"text-align: right;\">\n",
       "      <th></th>\n",
       "      <th>id</th>\n",
       "      <th>human_readable_id</th>\n",
       "      <th>community</th>\n",
       "      <th>parent</th>\n",
       "      <th>level</th>\n",
       "      <th>title</th>\n",
       "      <th>entity_ids</th>\n",
       "      <th>relationship_ids</th>\n",
       "      <th>text_unit_ids</th>\n",
       "      <th>period</th>\n",
       "      <th>...</th>\n",
       "      <th>level_reports</th>\n",
       "      <th>title_reports</th>\n",
       "      <th>summary</th>\n",
       "      <th>full_content</th>\n",
       "      <th>rank</th>\n",
       "      <th>rank_explanation</th>\n",
       "      <th>findings</th>\n",
       "      <th>full_content_json</th>\n",
       "      <th>period_reports</th>\n",
       "      <th>size_reports</th>\n",
       "    </tr>\n",
       "  </thead>\n",
       "  <tbody>\n",
       "    <tr>\n",
       "      <th>0</th>\n",
       "      <td>7578b6d1-fe94-4a24-9fd0-378ac5fea605</td>\n",
       "      <td>0</td>\n",
       "      <td>0</td>\n",
       "      <td>-1</td>\n",
       "      <td>0</td>\n",
       "      <td>Community 0</td>\n",
       "      <td>[e4791611-bece-493c-9203-1ec8783b824a, d7f020f...</td>\n",
       "      <td>[00b626bd-a0de-414a-936a-a6c22514d23e, 028d234...</td>\n",
       "      <td>[1a87ad9fada8f10085523210a40b6ddf986278ee943e4...</td>\n",
       "      <td>2025-01-29</td>\n",
       "      <td>...</td>\n",
       "      <td>0</td>\n",
       "      <td>Large Language Models and Their Ecosystem</td>\n",
       "      <td>The community centers around Large Language Mo...</td>\n",
       "      <td># Large Language Models and Their Ecosystem\\n\\...</td>\n",
       "      <td>8.5</td>\n",
       "      <td>The impact severity rating is high due to the ...</td>\n",
       "      <td>[{'explanation': 'Large Language Models (LLMs)...</td>\n",
       "      <td>{\\n    \"title\": \"Large Language Models and The...</td>\n",
       "      <td>2025-01-29</td>\n",
       "      <td>74</td>\n",
       "    </tr>\n",
       "    <tr>\n",
       "      <th>1</th>\n",
       "      <td>33e212e3-7a71-4553-b0c3-83c3773ff157</td>\n",
       "      <td>1</td>\n",
       "      <td>1</td>\n",
       "      <td>-1</td>\n",
       "      <td>0</td>\n",
       "      <td>Community 1</td>\n",
       "      <td>[66280169-6d64-4e06-be37-06a2cc71e410, 33edc70...</td>\n",
       "      <td>[0437f6d5-57e6-4567-a603-954a2d2abaff, 04fb82f...</td>\n",
       "      <td>[01b2f162b7fc41e1b57dad94b752b0c3d2ca5a92d1b1c...</td>\n",
       "      <td>2025-01-29</td>\n",
       "      <td>...</td>\n",
       "      <td>0</td>\n",
       "      <td>Retrieval-Augmented Generation Community</td>\n",
       "      <td>The community focuses on advancements in retri...</td>\n",
       "      <td># Retrieval-Augmented Generation Community\\n\\n...</td>\n",
       "      <td>7.5</td>\n",
       "      <td>The impact severity rating is high due to the ...</td>\n",
       "      <td>[{'explanation': 'LongRAG posits that RAG perf...</td>\n",
       "      <td>{\\n    \"title\": \"Retrieval-Augmented Generatio...</td>\n",
       "      <td>2025-01-29</td>\n",
       "      <td>24</td>\n",
       "    </tr>\n",
       "  </tbody>\n",
       "</table>\n",
       "<p>2 rows × 24 columns</p>\n",
       "</div>"
      ],
      "text/plain": [
       "                                     id  human_readable_id  community  parent  \\\n",
       "0  7578b6d1-fe94-4a24-9fd0-378ac5fea605                  0          0      -1   \n",
       "1  33e212e3-7a71-4553-b0c3-83c3773ff157                  1          1      -1   \n",
       "\n",
       "   level        title                                         entity_ids  \\\n",
       "0      0  Community 0  [e4791611-bece-493c-9203-1ec8783b824a, d7f020f...   \n",
       "1      0  Community 1  [66280169-6d64-4e06-be37-06a2cc71e410, 33edc70...   \n",
       "\n",
       "                                    relationship_ids  \\\n",
       "0  [00b626bd-a0de-414a-936a-a6c22514d23e, 028d234...   \n",
       "1  [0437f6d5-57e6-4567-a603-954a2d2abaff, 04fb82f...   \n",
       "\n",
       "                                       text_unit_ids      period  ...  \\\n",
       "0  [1a87ad9fada8f10085523210a40b6ddf986278ee943e4...  2025-01-29  ...   \n",
       "1  [01b2f162b7fc41e1b57dad94b752b0c3d2ca5a92d1b1c...  2025-01-29  ...   \n",
       "\n",
       "   level_reports                              title_reports  \\\n",
       "0              0  Large Language Models and Their Ecosystem   \n",
       "1              0   Retrieval-Augmented Generation Community   \n",
       "\n",
       "                                             summary  \\\n",
       "0  The community centers around Large Language Mo...   \n",
       "1  The community focuses on advancements in retri...   \n",
       "\n",
       "                                        full_content  rank  \\\n",
       "0  # Large Language Models and Their Ecosystem\\n\\...   8.5   \n",
       "1  # Retrieval-Augmented Generation Community\\n\\n...   7.5   \n",
       "\n",
       "                                    rank_explanation  \\\n",
       "0  The impact severity rating is high due to the ...   \n",
       "1  The impact severity rating is high due to the ...   \n",
       "\n",
       "                                            findings  \\\n",
       "0  [{'explanation': 'Large Language Models (LLMs)...   \n",
       "1  [{'explanation': 'LongRAG posits that RAG perf...   \n",
       "\n",
       "                                   full_content_json  period_reports  \\\n",
       "0  {\\n    \"title\": \"Large Language Models and The...      2025-01-29   \n",
       "1  {\\n    \"title\": \"Retrieval-Augmented Generatio...      2025-01-29   \n",
       "\n",
       "  size_reports  \n",
       "0           74  \n",
       "1           24  \n",
       "\n",
       "[2 rows x 24 columns]"
      ]
     },
     "execution_count": 3,
     "metadata": {},
     "output_type": "execute_result"
    }
   ],
   "source": [
    "communities_merged = pd.merge(\n",
    "    communities, \n",
    "    community_reports, \n",
    "    on='community',           # Column to merge on\n",
    "    how='outer',             # Keep all rows from both dataframes\n",
    "    suffixes=('', '_reports'), # Add suffixes to distinguish duplicate column names\n",
    ")\n",
    "\n",
    "communities_merged.head(2)"
   ]
  },
  {
   "cell_type": "markdown",
   "metadata": {},
   "source": [
    "## ArangoDB"
   ]
  },
  {
   "cell_type": "code",
   "execution_count": 42,
   "metadata": {},
   "outputs": [],
   "source": [
    "# Initialize the ArangoDB client\n",
    "client = ArangoClient(hosts=\"http://localhost:8529\")\n",
    "\n",
    "# Connect to \"_system\" database as root user\n",
    "sys_db = client.db(\"_system\", username=\"root\", password=\"root\")\n",
    "\n",
    "# Create a new database if it doesn't exist\n",
    "if not sys_db.has_database(\"knowledge_graph\"):\n",
    "    sys_db.create_database(\"knowledge_graph\")\n",
    "\n",
    "# Connect to the knowledge_graph database\n",
    "db = client.db(\"knowledge_graph\", username=\"root\", password=\"root\")\n",
    "\n",
    "# Create document collections if they don't exist\n",
    "for collection_name in [\"chunks\", \"entities\", \"documents\", \"communities\"]:\n",
    "    if not db.has_collection(collection_name):\n",
    "        db.create_collection(collection_name)\n",
    "\n",
    "# Create edge collections if they don't exist\n",
    "for edge_collection in [\"relationships\", \"chunk_contains\", \"community_contains\", \"document_contains\"]:\n",
    "    if not db.has_collection(edge_collection):\n",
    "        db.create_collection(edge_collection, edge=True)"
   ]
  },
  {
   "cell_type": "code",
   "execution_count": 5,
   "metadata": {},
   "outputs": [],
   "source": [
    "# Helper function to create document with custom _key\n",
    "def create_update_document(collection, doc, id_field='id'):\n",
    "    doc['_key'] = doc[id_field]  # Use id as _key\n",
    "    return collection.insert(doc, overwrite_mode='update')"
   ]
  },
  {
   "cell_type": "markdown",
   "metadata": {},
   "source": [
    "### Insert Documents"
   ]
  },
  {
   "cell_type": "code",
   "execution_count": null,
   "metadata": {},
   "outputs": [],
   "source": [
    "# Insert documents\n",
    "documents_collection = db.collection('documents')\n",
    "for _, row in documents.iterrows():\n",
    "    doc_doc = {\n",
    "        'id': row['id'],\n",
    "        'human_readable_id': row['human_readable_id'],\n",
    "        'title': row['title'],\n",
    "        'text': row['text']\n",
    "    }\n",
    "    create_update_document(documents_collection, doc_doc)"
   ]
  },
  {
   "cell_type": "markdown",
   "metadata": {},
   "source": [
    "### Insert Chunks"
   ]
  },
  {
   "cell_type": "code",
   "execution_count": 36,
   "metadata": {},
   "outputs": [],
   "source": [
    "# Insert Chunks\n",
    "chunks_collection = db.collection('chunks')\n",
    "for _, row in text_units.iterrows():\n",
    "    chunk_doc = {\n",
    "        'id': row['id'],\n",
    "        'human_readable_id': row['human_readable_id'],\n",
    "        'text': row['text'],\n",
    "        'document_id': row['document_ids'][0],\n",
    "        'n_tokens': row['n_tokens']\n",
    "    }\n",
    "    create_update_document(chunks_collection, chunk_doc)"
   ]
  },
  {
   "cell_type": "markdown",
   "metadata": {},
   "source": [
    "### Insert Entities"
   ]
  },
  {
   "cell_type": "code",
   "execution_count": 8,
   "metadata": {},
   "outputs": [],
   "source": [
    "entity_id_mapping = {\n",
    "    row['id']: row['title'] for _, row in entities.iterrows()\n",
    "}\n",
    "entity_id_mapping_r = {\n",
    "    row['title']: row['id'] for _, row in entities.iterrows()\n",
    "}"
   ]
  },
  {
   "cell_type": "code",
   "execution_count": 9,
   "metadata": {},
   "outputs": [],
   "source": [
    "# Insert entities\n",
    "entities = entities[\n",
    "    (entities['title'].notna()) & (entities['title'] != '') &\n",
    "    (entities['type'].notna()) & (entities['type'] != '')\n",
    "]\n",
    "\n",
    "entities_collection = db.collection('entities')\n",
    "for _, row in entities.iterrows():\n",
    "    entity_doc = {\n",
    "        'id': row['id'],\n",
    "        'human_readable_id': row['human_readable_id'],\n",
    "        'title': row['title'],\n",
    "        'type': row['type'],\n",
    "        'description': row['description']\n",
    "    }\n",
    "    create_update_document(entities_collection, entity_doc)"
   ]
  },
  {
   "cell_type": "markdown",
   "metadata": {},
   "source": [
    "### Insert Communities"
   ]
  },
  {
   "cell_type": "code",
   "execution_count": 10,
   "metadata": {},
   "outputs": [],
   "source": [
    "# Insert communities\n",
    "communities_collection = db.collection('communities')\n",
    "for _, row in communities_merged.iterrows():\n",
    "    community_doc = {\n",
    "        'id': row['id'],\n",
    "        'human_readable_id': row['human_readable_id'],\n",
    "        'community': row['community'],\n",
    "        'parent': row['parent'],\n",
    "        'level': row['level'],\n",
    "        'period': row['period'],\n",
    "        'rank': float(row['rank']),\n",
    "        'size': int(row['size']),\n",
    "        'title': row['title_reports'],\n",
    "        'summary': row['summary'],\n",
    "        'full_content': row['full_content'],\n",
    "        'rank_explanation': row['rank_explanation'],\n",
    "        'findings': list(row['findings'])\n",
    "    }\n",
    "    create_update_document(communities_collection, community_doc)"
   ]
  },
  {
   "cell_type": "markdown",
   "metadata": {},
   "source": [
    "# Edges"
   ]
  },
  {
   "cell_type": "markdown",
   "metadata": {},
   "source": [
    "### Realtionships"
   ]
  },
  {
   "cell_type": "code",
   "execution_count": 29,
   "metadata": {},
   "outputs": [],
   "source": [
    "# Create relationships between entities\n",
    "relationships_collection = db.collection('relationships')\n",
    "for _, row in relationships.iterrows():\n",
    "    rel_doc = {\n",
    "        '_from': f\"entities/{entity_id_mapping_r[row['source']]}\",\n",
    "        '_to': f\"entities/{entity_id_mapping_r[row['target']]}\",\n",
    "        'id': row['id'],\n",
    "        'human_readable_id': row['human_readable_id'],\n",
    "        'type': 'relationship',\n",
    "        'description': row['description'],\n",
    "        'weight': float(row['weight']),\n",
    "        'combined_degree': int(row['combined_degree'])\n",
    "    }\n",
    "    create_update_document(relationships_collection, rel_doc)"
   ]
  },
  {
   "cell_type": "markdown",
   "metadata": {},
   "source": [
    "### Chunks"
   ]
  },
  {
   "cell_type": "code",
   "execution_count": 12,
   "metadata": {},
   "outputs": [],
   "source": [
    "def create_hash(edge):\n",
    "    dict_str = json.dumps(edge, sort_keys=True)\n",
    "    hash_object = hashlib.sha256(dict_str.encode())\n",
    "    hex_hash = hash_object.hexdigest()\n",
    "    return hex_hash"
   ]
  },
  {
   "cell_type": "code",
   "execution_count": 13,
   "metadata": {},
   "outputs": [],
   "source": [
    "# Create relationships between entities\n",
    "text_units = text_units.dropna(subset=['relationship_ids'])\n",
    "\n",
    "chunk_contains = db.collection('chunk_contains')\n",
    "for _, row in text_units.iterrows():\n",
    "    # Link chunks to entities\n",
    "    for entity_id in row['entity_ids']:\n",
    "        edge = {\n",
    "            '_from': f\"chunks/{row['id']}\",\n",
    "            '_to': f\"entities/{entity_id}\",\n",
    "            'type': 'contains_entity',\n",
    "            'weight': float(1),\n",
    "        }\n",
    "        edge['id'] = create_hash(edge)\n",
    "        create_update_document(chunk_contains, edge)\n",
    "    \n",
    "    # Link chunks to documents  \n",
    "    for doc_id in row['document_ids']:\n",
    "        edge = {\n",
    "            '_from': f\"chunks/{row['id']}\",\n",
    "            '_to': f\"documents/{doc_id}\",\n",
    "            'type': 'part_of_document',\n",
    "            'weight': float(1),\n",
    "        }\n",
    "        edge['id'] = create_hash(edge)\n",
    "        create_update_document(chunk_contains, edge)"
   ]
  },
  {
   "cell_type": "markdown",
   "metadata": {},
   "source": [
    "### Communities"
   ]
  },
  {
   "cell_type": "code",
   "execution_count": 14,
   "metadata": {},
   "outputs": [],
   "source": [
    "# Create Community Connections\n",
    "\n",
    "community_contains = db.collection('community_contains')\n",
    "for _, row in communities_merged.iterrows():\n",
    "    # Link communities to entities\n",
    "    for entity_id in row['entity_ids']:\n",
    "        edge = {\n",
    "            '_from': f\"communities/{row['id']}\",\n",
    "            '_to': f\"entities/{entity_id}\",\n",
    "            'type': 'community_entity',\n",
    "            'weight': float(1),\n",
    "        }\n",
    "        edge['id'] = create_hash(edge)\n",
    "        create_update_document(community_contains, edge)\n",
    "    \n",
    "    # Link communities to chunks\n",
    "    for chunk in row['text_unit_ids']:\n",
    "        edge = {\n",
    "            '_from': f\"communities/{row['id']}\",\n",
    "            '_to': f\"chunks/{chunk}\",\n",
    "            'type': 'community_chunk',\n",
    "            'weight': float(1),\n",
    "        }\n",
    "        edge['id'] = create_hash(edge)\n",
    "        create_update_document(community_contains, edge)"
   ]
  },
  {
   "cell_type": "markdown",
   "metadata": {},
   "source": [
    "### Documents"
   ]
  },
  {
   "cell_type": "code",
   "execution_count": 43,
   "metadata": {},
   "outputs": [
    {
     "data": {
      "text/html": [
       "<div>\n",
       "<style scoped>\n",
       "    .dataframe tbody tr th:only-of-type {\n",
       "        vertical-align: middle;\n",
       "    }\n",
       "\n",
       "    .dataframe tbody tr th {\n",
       "        vertical-align: top;\n",
       "    }\n",
       "\n",
       "    .dataframe thead th {\n",
       "        text-align: right;\n",
       "    }\n",
       "</style>\n",
       "<table border=\"1\" class=\"dataframe\">\n",
       "  <thead>\n",
       "    <tr style=\"text-align: right;\">\n",
       "      <th></th>\n",
       "      <th>id</th>\n",
       "      <th>human_readable_id</th>\n",
       "      <th>text</th>\n",
       "      <th>n_tokens</th>\n",
       "      <th>document_ids</th>\n",
       "      <th>entity_ids</th>\n",
       "      <th>relationship_ids</th>\n",
       "    </tr>\n",
       "  </thead>\n",
       "  <tbody>\n",
       "    <tr>\n",
       "      <th>0</th>\n",
       "      <td>9ed73c3fa03f83895a135beea0b9167417e1259afd8d6a...</td>\n",
       "      <td>1</td>\n",
       "      <td>&lt;missing-text&gt;\\n\\nThe Ultimate Guide to Fine-T...</td>\n",
       "      <td>1200</td>\n",
       "      <td>[a8b765d9d64c173b527b19399d8071b2476bc8aa34582...</td>\n",
       "      <td>[199bfae9-7e0b-4f17-9e73-a96d75e3ef81, b131aa1...</td>\n",
       "      <td>[d9742a40-1414-4e30-9d1b-2cfc070a972e, 4860f12...</td>\n",
       "    </tr>\n",
       "  </tbody>\n",
       "</table>\n",
       "</div>"
      ],
      "text/plain": [
       "                                                  id  human_readable_id  \\\n",
       "0  9ed73c3fa03f83895a135beea0b9167417e1259afd8d6a...                  1   \n",
       "\n",
       "                                                text  n_tokens  \\\n",
       "0  <missing-text>\\n\\nThe Ultimate Guide to Fine-T...      1200   \n",
       "\n",
       "                                        document_ids  \\\n",
       "0  [a8b765d9d64c173b527b19399d8071b2476bc8aa34582...   \n",
       "\n",
       "                                          entity_ids  \\\n",
       "0  [199bfae9-7e0b-4f17-9e73-a96d75e3ef81, b131aa1...   \n",
       "\n",
       "                                    relationship_ids  \n",
       "0  [d9742a40-1414-4e30-9d1b-2cfc070a972e, 4860f12...  "
      ]
     },
     "execution_count": 43,
     "metadata": {},
     "output_type": "execute_result"
    }
   ],
   "source": [
    "text_units.head(1)"
   ]
  },
  {
   "cell_type": "code",
   "execution_count": 45,
   "metadata": {},
   "outputs": [],
   "source": [
    "# Create Community Connections\n",
    "document_contains = db.collection('document_contains')\n",
    "for _, row in text_units.iterrows():\n",
    "    edge = {\n",
    "        '_from': f\"chunks/{row['id']}\",\n",
    "        '_to': f\"documents/{row['document_ids'][0]}\",\n",
    "        'type': 'part_of_document',\n",
    "        'weight': float(1),\n",
    "    }\n",
    "    edge['id'] = create_hash(edge)\n",
    "    create_update_document(document_contains, edge)\n",
    "    # Link entities to documents\n",
    "    for entity_id in row['entity_ids']:\n",
    "        edge = {\n",
    "            '_from': f\"entities/{entity_id}\",\n",
    "            '_to': f\"documents/{row['document_ids'][0]}\",\n",
    "            'type': 'part_of_document',\n",
    "            'weight': float(1),\n",
    "        }\n",
    "        edge['id'] = create_hash(edge)\n",
    "        create_update_document(document_contains, edge)\n",
    "    \n",
    "    # Link relationships to documents\n",
    "    for relationship_id in row['relationship_ids']:\n",
    "        edge = {\n",
    "            '_from': f\"relationships/{relationship_id}\",\n",
    "            '_to': f\"documents/{row['document_ids'][0]}\",\n",
    "            'type': 'part_of_document',\n",
    "            'weight': float(1),\n",
    "        }\n",
    "        edge['id'] = create_hash(edge)\n",
    "        create_update_document(document_contains, edge)"
   ]
  },
  {
   "cell_type": "markdown",
   "metadata": {},
   "source": [
    "# Create Graph"
   ]
  },
  {
   "cell_type": "code",
   "execution_count": 47,
   "metadata": {},
   "outputs": [],
   "source": [
    "# Create a graph if it doesn't exist\n",
    "if not db.has_graph(\"knowledge_graph\"):\n",
    "    graph = db.create_graph(\"knowledge_graph\")\n",
    "else:\n",
    "    graph = db.graph(\"knowledge_graph\")\n",
    "\n",
    "# Define edge definitions for the graph\n",
    "edge_definitions = [\n",
    "    {\n",
    "        # Edge collection for relationships between entities\n",
    "        \"edge_collection\": \"relationships\",\n",
    "        \"from_vertex_collections\": [\"entities\"],\n",
    "        \"to_vertex_collections\": [\"entities\"]\n",
    "    },\n",
    "    {\n",
    "        # Edge collection for chunks containing entities/relationships\n",
    "        \"edge_collection\": \"chunk_contains\",\n",
    "        \"from_vertex_collections\": [\"chunks\"],\n",
    "        \"to_vertex_collections\": [\"entities\"]\n",
    "    },\n",
    "    {\n",
    "        # Edge collection for communities containing entities/relationships\n",
    "        \"edge_collection\": \"community_contains\",\n",
    "        \"from_vertex_collections\": [\"communities\"],\n",
    "        \"to_vertex_collections\": [\"entities\", \"chunks\"]\n",
    "    },\n",
    "    {\n",
    "        # Edge collection for communities containing entities/relationships\n",
    "        \"edge_collection\": \"document_contains\",\n",
    "        \"from_vertex_collections\": [\"communities\", \"chunks\", \"entities\"],\n",
    "        \"to_vertex_collections\": [\"documents\"]\n",
    "    }\n",
    "]\n",
    "\n",
    "# Add or update edge definitions\n",
    "for edge_def in edge_definitions:\n",
    "    if graph.has_edge_definition(edge_def[\"edge_collection\"]):\n",
    "        graph.replace_edge_definition(\n",
    "            edge_collection=edge_def[\"edge_collection\"],\n",
    "            from_vertex_collections=edge_def[\"from_vertex_collections\"],\n",
    "            to_vertex_collections=edge_def[\"to_vertex_collections\"]\n",
    "        )\n",
    "    else:\n",
    "        graph.create_edge_definition(\n",
    "            edge_collection=edge_def[\"edge_collection\"],\n",
    "            from_vertex_collections=edge_def[\"from_vertex_collections\"],\n",
    "            to_vertex_collections=edge_def[\"to_vertex_collections\"]\n",
    "        )"
   ]
  },
  {
   "cell_type": "markdown",
   "metadata": {},
   "source": [
    "## Export Graph"
   ]
  },
  {
   "cell_type": "code",
   "execution_count": 48,
   "metadata": {},
   "outputs": [
    {
     "name": "stdout",
     "output_type": "stream",
     "text": [
      "Exported 1079 nodes and 3730 edges to ../gephi\n"
     ]
    }
   ],
   "source": [
    "# Query ArangoDB and create Gephi-compatible CSV files\n",
    "def export_graph_for_gephi(db, output_dir='../gephi'):\n",
    "    \"\"\"\n",
    "    Export ArangoDB graph to Gephi-compatible CSV files.\n",
    "    Creates two files:\n",
    "    - nodes.csv: Contains all vertices with their properties\n",
    "    - edges.csv: Contains all edges with their properties\n",
    "    \"\"\"\n",
    "    from pathlib import Path\n",
    "    import csv\n",
    "    \n",
    "    # Create output directory if it doesn't exist\n",
    "    Path(output_dir).mkdir(parents=True, exist_ok=True)\n",
    "    \n",
    "    # Export nodes\n",
    "    nodes_query = \"\"\"\n",
    "    LET entities = (FOR v IN entities RETURN MERGE(v, {category: 'entity'}))\n",
    "    LET chunks = (FOR v IN chunks RETURN MERGE(v, {category: 'chunk'}))\n",
    "    LET documents = (FOR v IN documents RETURN MERGE(v, {category: 'document'}))\n",
    "    LET communities = (FOR v IN communities RETURN MERGE(v, {category: 'community'}))\n",
    "    \n",
    "    FOR v IN APPEND(entities, APPEND(chunks, APPEND(documents, communities)))\n",
    "        RETURN {\n",
    "            Id: v._key,\n",
    "            Label: v.title || v.text || v.id,\n",
    "            Category: v.category,\n",
    "            Type: v.type || '',\n",
    "            Weight: v.weight || 1.0\n",
    "        }\n",
    "    \"\"\"\n",
    "    \n",
    "    # Export edges\n",
    "    edges_query = \"\"\"\n",
    "    LET relationships = (\n",
    "        FOR e IN relationships \n",
    "        RETURN MERGE(e, {category: 'relationship'})\n",
    "    )\n",
    "    LET chunk_contains = (\n",
    "        FOR e IN chunk_contains \n",
    "        RETURN MERGE(e, {category: 'chunk_contains'})\n",
    "    )\n",
    "    LET community_contains = (\n",
    "        FOR e IN community_contains \n",
    "        RETURN MERGE(e, {category: 'community_contains'})\n",
    "    )\n",
    "    \n",
    "    FOR e IN APPEND(relationships, APPEND(chunk_contains, community_contains))\n",
    "        RETURN {\n",
    "            Source: SPLIT(e._from, '/')[1],\n",
    "            Target: SPLIT(e._to, '/')[1],\n",
    "            Type: e.type,\n",
    "            Weight: e.weight || 1.0,\n",
    "            Category: e.category\n",
    "        }\n",
    "    \"\"\"\n",
    "    \n",
    "    # Execute queries\n",
    "    nodes = list(db.aql.execute(nodes_query))\n",
    "    edges = list(db.aql.execute(edges_query))\n",
    "    \n",
    "    # Write nodes CSV\n",
    "    with open(f'{output_dir}/nodes.csv', 'w', newline='', encoding='utf-8') as f:\n",
    "        writer = csv.DictWriter(f, fieldnames=['Id', 'Label', 'Category', 'Type', 'Weight'])\n",
    "        writer.writeheader()\n",
    "        writer.writerows(nodes)\n",
    "    \n",
    "    # Write edges CSV\n",
    "    with open(f'{output_dir}/edges.csv', 'w', newline='', encoding='utf-8') as f:\n",
    "        writer = csv.DictWriter(f, fieldnames=['Source', 'Target', 'Type', 'Weight', 'Category'])\n",
    "        writer.writeheader()\n",
    "        writer.writerows(edges)\n",
    "    \n",
    "    print(f\"Exported {len(nodes)} nodes and {len(edges)} edges to {output_dir}\")\n",
    "    return nodes, edges\n",
    "\n",
    "# Export the graph\n",
    "nodes, edges = export_graph_for_gephi(db)"
   ]
  },
  {
   "cell_type": "markdown",
   "metadata": {},
   "source": [
    "# Semantic Embeddings\n"
   ]
  },
  {
   "cell_type": "code",
   "execution_count": 21,
   "metadata": {},
   "outputs": [
    {
     "name": "stdout",
     "output_type": "stream",
     "text": [
      "Old Version Deleted - Create New Collection\n"
     ]
    }
   ],
   "source": [
    "chroma_client = chromadb.PersistentClient(path=\"../chroma_db\")\n",
    "COLLECTION_NAME = 'knowledge_graph'\n",
    "try:\n",
    "    collection = chroma_client.get_collection(name=COLLECTION_NAME)\n",
    "    chroma_client.delete_collection(name=COLLECTION_NAME)\n",
    "    print('Old Version Deleted - Create New Collection')\n",
    "    collection = chroma_client.create_collection(name=COLLECTION_NAME)\n",
    "except:\n",
    "    print('No Collection Found - Create New Collection')\n",
    "    collection = chroma_client.create_collection(name=COLLECTION_NAME)"
   ]
  },
  {
   "cell_type": "code",
   "execution_count": 22,
   "metadata": {},
   "outputs": [],
   "source": [
    "chunks = text_units['text'].tolist()\n",
    "chunk_embeddings = ollama.embed(model='all-minilm:33m', input=chunks)\n",
    "\n",
    "communities_summary = communities_merged['summary'].tolist()\n",
    "# communities_full_content = communities_merged['full_content'].tolist()\n",
    "communities_summary__embeddings = ollama.embed(model='all-minilm:33m', input=communities_summary)\n",
    "# communities_full_content__embeddings = ollama.embed(model='all-minilm:33m', input=communities_full_content)\n",
    "\n",
    "relationships_description = relationships['description'].tolist()\n",
    "relationships_description__embeddings = ollama.embed(model='all-minilm:33m', input=relationships_description)"
   ]
  },
  {
   "cell_type": "code",
   "execution_count": 23,
   "metadata": {},
   "outputs": [],
   "source": [
    "chunk_metadata = []\n",
    "for idx, row in text_units.iterrows():\n",
    "    chunk_metadata.append({\n",
    "        \"id\": row['id'],\n",
    "        'human_readable_id': row['human_readable_id'],\n",
    "        'n_tokens': row['n_tokens']\n",
    "    })\n",
    "\n",
    "communities_metadata = []\n",
    "for idx, row in communities_merged.iterrows():\n",
    "    communities_metadata.append({\n",
    "        \"id\": row['id'],\n",
    "        'title': row['title_reports'],\n",
    "        'rank': row['rank']\n",
    "    })\n",
    "\n",
    "relationships_metadata = []\n",
    "for idx, row in relationships.iterrows():\n",
    "    relationships_metadata.append({\n",
    "        \"id\": row['id'],\n",
    "        'source': row['source'],\n",
    "        'target': row['target']\n",
    "    })"
   ]
  },
  {
   "cell_type": "code",
   "execution_count": 24,
   "metadata": {},
   "outputs": [],
   "source": [
    "for d, e, m in zip([chunks, communities_summary, relationships_description], [chunk_embeddings, communities_summary__embeddings, relationships_description__embeddings], [chunk_metadata, communities_metadata, relationships_metadata]):\n",
    "    collection.add(\n",
    "        documents=d,\n",
    "        embeddings=e.embeddings,\n",
    "        metadatas=m,\n",
    "        ids=[x['id'] for x in m]\n",
    "    )"
   ]
  },
  {
   "cell_type": "markdown",
   "metadata": {},
   "source": [
    "### Query Semantic"
   ]
  },
  {
   "cell_type": "code",
   "execution_count": 25,
   "metadata": {},
   "outputs": [
    {
     "name": "stdout",
     "output_type": "stream",
     "text": [
      "Loaded collection (knowledge_graph)\n",
      "52279d41-3e65-4cbf-af78-fca24980fb56 CoRAG is a newly established model that demonstrates state-of-the-art performance on the KILT benchmark, showcasing its effectiveness in handling knowledge-intensive tasks. The evaluation of CoRAG using the KILT benchmark highlights its capabilities across a variety of such tasks, confirming its advanced performance in this domain.\n",
      "f8ce92bc-9661-414d-b2bf-c6fa567561df KILT-RAG is evaluated on the KILT benchmark, showcasing its performance across various tasks\n",
      "77a4ce0c-85cc-41a1-a1ad-87afc791cad5 Tim Rocktäschel is one of the authors of the KILT benchmark paper\n",
      "37237528-964b-429f-a6f6-356576598fb8 James Thorne is one of the authors of the KILT benchmark paper\n",
      "4c797b87-54b3-4af4-b037-16749d687630 Nicola De Cao is one of the authors of the KILT benchmark paper\n",
      "a21f4792-6029-479d-8532-2a4821bbf706 The KILT training set is part of the KILT benchmark used for training models\n",
      "a81d336b-2d27-4d90-bcdf-aa0645a0435b Patrick Lewis is one of the authors of the KILT benchmark paper\n",
      "511157a6-e88c-48e6-8c17-c79403558a87 Yacine Jernite is one of the authors of the KILT benchmark paper\n",
      "82d70fbe-09e3-4b26-995e-39670a278b6e The KILT benchmark encompasses various tasks and datasets for evaluating knowledge-intensive models\n",
      "20b90fa5-96db-4c4b-a5c3-81d70eaeee25 Bamboogle is part of the evaluation process for the KILT benchmark, consisting of questions reserved for evaluation\n",
      "5767f438-9b39-489c-81c0-366af7c2a885 Angela Fan is one of the authors of the KILT benchmark paper\n",
      "c76d2db0-bb51-4ffc-b165-fc32a3f77dce Vassilis Plachouras is one of the authors of the KILT benchmark paper\n",
      "13347217-ae29-4844-b8f0-09afe2ba6381 The KILT leaderboard ranks models based on their performance on the KILT benchmark\n",
      "c2a724c9-4e8b-471d-8233-66ad34ca35aa Majid Yazdani is one of the authors of the KILT benchmark paper\n",
      "1327a287-c60c-4fbc-9395-090421c69fc8 Jean Maillard is one of the authors of the KILT benchmark paper\n"
     ]
    }
   ],
   "source": [
    "chroma_client = chromadb.PersistentClient(path=\"../chroma_db\")\n",
    "COLLECTION_NAME = 'knowledge_graph'\n",
    "\n",
    "try:\n",
    "    collection = chroma_client.get_collection(name=COLLECTION_NAME)\n",
    "    print(f'Loaded collection ({COLLECTION_NAME})')\n",
    "except:\n",
    "    print('No Collection Found')\n",
    "\n",
    "query = \"CoRAG framework and the KILT benchmark\"\n",
    "query_embedding = ollama.embed(model='all-minilm:33m', input=query)\n",
    "results = collection.query(\n",
    "    query_embeddings=query_embedding.embeddings,\n",
    "    n_results=15,\n",
    ")\n",
    "for rd, re in zip(results['ids'][0], results['documents'][0]):\n",
    "    print(rd, re)"
   ]
  },
  {
   "cell_type": "code",
   "execution_count": null,
   "metadata": {},
   "outputs": [],
   "source": []
  }
 ],
 "metadata": {
  "kernelspec": {
   "display_name": "venv",
   "language": "python",
   "name": "python3"
  },
  "language_info": {
   "codemirror_mode": {
    "name": "ipython",
    "version": 3
   },
   "file_extension": ".py",
   "mimetype": "text/x-python",
   "name": "python",
   "nbconvert_exporter": "python",
   "pygments_lexer": "ipython3",
   "version": "3.11.10"
  }
 },
 "nbformat": 4,
 "nbformat_minor": 2
}
