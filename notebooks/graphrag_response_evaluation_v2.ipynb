{
 "cells": [
  {
   "cell_type": "markdown",
   "metadata": {},
   "source": [
    "# Response Analysis"
   ]
  },
  {
   "cell_type": "code",
   "execution_count": 1,
   "metadata": {},
   "outputs": [],
   "source": [
    "import pandas as pd\n",
    "import os\n",
    "from pathlib import Path\n",
    "from typing import Dict, List\n",
    "import openai\n",
    "import json\n",
    "from tqdm.notebook import tqdm"
   ]
  },
  {
   "cell_type": "code",
   "execution_count": 2,
   "metadata": {},
   "outputs": [
    {
     "data": {
      "text/plain": [
       "{\"Who is Apple's new Chief Financial Officer?\": 1,\n",
       " 'When did Kevan Parekh join Apple initially?': 2,\n",
       " 'What is the annual base salary for the new CFO?': 3,\n",
       " 'Which companies did Kevan Parekh work for before joining Apple?': 4,\n",
       " 'What is the target bonus opportunity under the Executive Cash Incentive Plan?': 5,\n",
       " 'How many RSUs of each type (performance-based and time-based) were awarded to the new CFO?': 6,\n",
       " 'What are the specific vesting dates for the time-based RSUs?': 7,\n",
       " 'What performance metric determines the vesting of performance-based RSUs?': 8,\n",
       " 'What is the exact performance measurement period for the performance-based RSUs?': 9,\n",
       " 'What is the maximum possible vesting percentage for the performance-based RSUs, and when do they vest?': 10,\n",
       " 'What is the name of the paper search agent introduced in this work?': 11,\n",
       " 'What are the two main components of the PaSa system?': 12,\n",
       " 'How many instances does the AutoScholarQuery training dataset contain?': 13,\n",
       " 'What is the improvement percentage of PaSa-7b over Google with GPT-4o in Recall@20 on RealScholarQuery?': 14,\n",
       " 'What is the F1 score achieved by the Selector component?': 15,\n",
       " 'Which conferences were used to collect papers for AutoScholarQuery?': 16,\n",
       " \"What happens to the Crawler's recall when removing the [Expand] action?\": 17,\n",
       " 'How many real-world academic queries are included in RealScholarQuery?': 18,\n",
       " 'What base model was used to develop PaSa-7b?': 19,\n",
       " 'What percentage of queries and papers were qualified in the quality assessment of AutoScholarQuery?': 20}"
      ]
     },
     "execution_count": 2,
     "metadata": {},
     "output_type": "execute_result"
    }
   ],
   "source": [
    "from questions.apple import quiz_questions as apple_questions\n",
    "from questions.cs2 import quiz_questions as cs2_questions\n",
    "\n",
    "apple_mapper = {v['question']: int(k) for k,v in apple_questions.items()}\n",
    "cs2_mapper = {v['question']: int(k) + len(apple_mapper) + 1 for k,v in cs2_questions.items()}\n",
    "\n",
    "# Combine them\n",
    "q_mapper = {**apple_mapper, **cs2_mapper}\n",
    "q_mapper"
   ]
  },
  {
   "cell_type": "code",
   "execution_count": 3,
   "metadata": {},
   "outputs": [
    {
     "data": {
      "text/html": [
       "<div>\n",
       "<style scoped>\n",
       "    .dataframe tbody tr th:only-of-type {\n",
       "        vertical-align: middle;\n",
       "    }\n",
       "\n",
       "    .dataframe tbody tr th {\n",
       "        vertical-align: top;\n",
       "    }\n",
       "\n",
       "    .dataframe thead th {\n",
       "        text-align: right;\n",
       "    }\n",
       "</style>\n",
       "<table border=\"1\" class=\"dataframe\">\n",
       "  <thead>\n",
       "    <tr style=\"text-align: right;\">\n",
       "      <th></th>\n",
       "      <th>model</th>\n",
       "      <th>access</th>\n",
       "      <th>user</th>\n",
       "      <th>question</th>\n",
       "      <th>response</th>\n",
       "      <th>answer</th>\n",
       "      <th>reference</th>\n",
       "      <th>response_time</th>\n",
       "      <th>response_length</th>\n",
       "      <th>response_tokens</th>\n",
       "      <th>qid</th>\n",
       "    </tr>\n",
       "  </thead>\n",
       "  <tbody>\n",
       "    <tr>\n",
       "      <th>0</th>\n",
       "      <td>smollm:1.7b</td>\n",
       "      <td>KG_ONLY</td>\n",
       "      <td>user1</td>\n",
       "      <td>Who is Apple's new Chief Financial Officer?</td>\n",
       "      <td>Apple Inc. has announced the appointment of Ti...</td>\n",
       "      <td>Kevan Parekh</td>\n",
       "      <td>Apple's Board of Directors appointed Kevan Par...</td>\n",
       "      <td>3.20</td>\n",
       "      <td>2419</td>\n",
       "      <td>553</td>\n",
       "      <td>1</td>\n",
       "    </tr>\n",
       "    <tr>\n",
       "      <th>1</th>\n",
       "      <td>smollm:1.7b</td>\n",
       "      <td>KG_ONLY</td>\n",
       "      <td>user1</td>\n",
       "      <td>When did Kevan Parekh join Apple initially?</td>\n",
       "      <td>Kevan Parekh joined Apple in 2015, after being...</td>\n",
       "      <td>June 2013</td>\n",
       "      <td>Mr. Parekh joined Apple in June 2013</td>\n",
       "      <td>2.03</td>\n",
       "      <td>2370</td>\n",
       "      <td>576</td>\n",
       "      <td>2</td>\n",
       "    </tr>\n",
       "  </tbody>\n",
       "</table>\n",
       "</div>"
      ],
      "text/plain": [
       "         model   access   user                                     question  \\\n",
       "0  smollm:1.7b  KG_ONLY  user1  Who is Apple's new Chief Financial Officer?   \n",
       "1  smollm:1.7b  KG_ONLY  user1  When did Kevan Parekh join Apple initially?   \n",
       "\n",
       "                                            response        answer  \\\n",
       "0  Apple Inc. has announced the appointment of Ti...  Kevan Parekh   \n",
       "1  Kevan Parekh joined Apple in 2015, after being...     June 2013   \n",
       "\n",
       "                                           reference  response_time  \\\n",
       "0  Apple's Board of Directors appointed Kevan Par...           3.20   \n",
       "1               Mr. Parekh joined Apple in June 2013           2.03   \n",
       "\n",
       "   response_length  response_tokens  qid  \n",
       "0             2419              553    1  \n",
       "1             2370              576    2  "
      ]
     },
     "execution_count": 3,
     "metadata": {},
     "output_type": "execute_result"
    }
   ],
   "source": [
    "df = pd.read_csv('./results/results.csv')\n",
    "df['qid'] = df['question'].map(q_mapper)\n",
    "df.head(2)"
   ]
  },
  {
   "cell_type": "code",
   "execution_count": 60,
   "metadata": {},
   "outputs": [
    {
     "name": "stdout",
     "output_type": "stream",
     "text": [
      "Error for 12 FULL user1\n",
      "Error: 'str' object has no attribute 'keys'\n",
      "Error for 13 FULL user1\n",
      "Error: 'str' object has no attribute 'keys'\n",
      "Error for 20 FULL user1\n",
      "Error parsing JSON: Expecting value: line 39 column 26 (char 2466)\n"
     ]
    }
   ],
   "source": [
    "n_ids = df['qid'].unique()\n",
    "n_models = df['model'].unique()\n",
    "n_access = df['access'].unique()\n",
    "n_users = df['user'].unique()\n",
    "\n",
    "all_dfs = []\n",
    "for id in n_ids:\n",
    "    for access in n_access:\n",
    "        for user in n_users:\n",
    "            try:\n",
    "                filtered_df = df.loc[\n",
    "                    (df['qid'].isin([id])) &\n",
    "                    # (df['model'].isin([model])) &\n",
    "                    (df['access'].isin([access])) &\n",
    "                    (df['user'].isin([user]))\n",
    "                ].copy()\n",
    "\n",
    "                # Create Prompt for Evaluation\n",
    "                prompt = f\"\"\"You are an expert evaluator of LLM responses. Please analyze and rank the following responses to the same question.\n",
    "                Question: {filtered_df['question'].values[0]}\n",
    "                Correct Answer: {filtered_df['answer'].values[0]}\n",
    "                Reference for Correct Answer in Original Text: {filtered_df['reference'].values[0]}\n",
    "\n",
    "                Responses to evaluate:\n",
    "                {'-' * 50}\n",
    "                \"\"\"\n",
    "\n",
    "                for idx, row in filtered_df.iterrows():\n",
    "                    prompt += f\"\\n{row['model']}:\\n{row['response']}\\n{'-' * 50}\\n\"\n",
    "\n",
    "                prompt += \"\"\"\\nPlease evaluate each response based on:\n",
    "                1. Accuracy and factual correctness\n",
    "                2. Completeness of the answer\n",
    "                3. Clarity and coherence\n",
    "                4. Relevance to the question\n",
    "                5. Proper use of available context\n",
    "\n",
    "                Provide a scoring from best to worst, with scores (0-10) and detailed explanations.\n",
    "                Format your response in a structured way that can be parsed into the following JSON schema:\n",
    "                {\n",
    "                    \"evaluations\": [\n",
    "                        {\n",
    "                            \"model_name\": \"model name\",\n",
    "                            \"score\": score (0-10),\n",
    "                            \"reasoning\": \"detailed explanation\"\n",
    "                        }\n",
    "                    ],\n",
    "                    \"meta_analysis\": \"overall analysis of patterns and differences between responses\"\n",
    "                }\n",
    "\n",
    "                Check the response json format before returning it.\n",
    "                \"\"\"\n",
    "\n",
    "                # Get evaluation from GPT-4\n",
    "                response = openai.chat.completions.create(\n",
    "                    model=\"gpt-4o-mini\",\n",
    "                    messages=[\n",
    "                        {\"role\": \"system\", \"content\": \"You are an expert evaluator of LLM responses.\"},\n",
    "                        {\"role\": \"user\", \"content\": prompt}\n",
    "                    ],\n",
    "                    response_format={ \"type\": \"json_object\" }\n",
    "                )\n",
    "\n",
    "                # Parse response\n",
    "                try:\n",
    "                    eval_dict = json.loads(response.choices[0].message.content)\n",
    "                    eval_df = pd.DataFrame(eval_dict['evaluations'])\n",
    "\n",
    "                    # Create mappings from eval_df using model names as keys\n",
    "                    score_mapping = dict(zip(eval_df['model_name'], eval_df['score']))\n",
    "                    reasoning_mapping = dict(zip(eval_df['model_name'], eval_df['reasoning']))\n",
    "\n",
    "                    # Map values to filtered_df with default values for missing models\n",
    "                    filtered_df['score'] = filtered_df['model'].map(score_mapping).fillna(-1)\n",
    "                    filtered_df['reasoning'] = filtered_df['model'].map(reasoning_mapping).fillna('Model evaluation failed')\n",
    "                    filtered_df['meta_analysis'] = eval_dict['meta_analysis']\n",
    "\n",
    "                    \n",
    "                    # filtered_df['score'] = eval_df['score'].values\n",
    "                    # filtered_df['reasoning'] = eval_df['reasoning'].values\n",
    "                    # filtered_df['meta_analysis'] = eval_dict['meta_analysis']\n",
    "\n",
    "                    all_dfs.append(filtered_df)\n",
    "                    # evaluations.append(eval_dict)\n",
    "                    # print(eval_dict)\n",
    "                except json.JSONDecodeError as e:\n",
    "                    print(f\"Error for {id} {access} {user}\")\n",
    "                    print(f\"Error parsing JSON: {e}\")\n",
    "            except Exception as e:\n",
    "                print(f\"Error for {id} {access} {user}\")\n",
    "                print(f\"Error: {e}\")\n",
    "\n",
    "            # break\n",
    "    #     break\n",
    "    # break"
   ]
  },
  {
   "cell_type": "code",
   "execution_count": null,
   "metadata": {},
   "outputs": [],
   "source": [
    "# Combine all at once after the loop\n",
    "final_df = pd.concat(all_dfs, ignore_index=True)\n",
    "# final_df.to_csv('./results/results_with_scores.csv', index = False)"
   ]
  },
  {
   "cell_type": "markdown",
   "metadata": {},
   "source": [
    "# Eval with Opik"
   ]
  },
  {
   "cell_type": "code",
   "execution_count": 3,
   "metadata": {},
   "outputs": [
    {
     "data": {
      "text/html": [
       "<div>\n",
       "<style scoped>\n",
       "    .dataframe tbody tr th:only-of-type {\n",
       "        vertical-align: middle;\n",
       "    }\n",
       "\n",
       "    .dataframe tbody tr th {\n",
       "        vertical-align: top;\n",
       "    }\n",
       "\n",
       "    .dataframe thead th {\n",
       "        text-align: right;\n",
       "    }\n",
       "</style>\n",
       "<table border=\"1\" class=\"dataframe\">\n",
       "  <thead>\n",
       "    <tr style=\"text-align: right;\">\n",
       "      <th></th>\n",
       "      <th>model</th>\n",
       "      <th>access</th>\n",
       "      <th>user</th>\n",
       "      <th>question</th>\n",
       "      <th>response</th>\n",
       "      <th>answer</th>\n",
       "      <th>reference</th>\n",
       "      <th>response_time</th>\n",
       "      <th>response_length</th>\n",
       "      <th>response_tokens</th>\n",
       "      <th>qid</th>\n",
       "      <th>score</th>\n",
       "      <th>reasoning</th>\n",
       "      <th>meta_analysis</th>\n",
       "    </tr>\n",
       "  </thead>\n",
       "  <tbody>\n",
       "    <tr>\n",
       "      <th>0</th>\n",
       "      <td>smollm:1.7b</td>\n",
       "      <td>KG_ONLY</td>\n",
       "      <td>user1</td>\n",
       "      <td>Who is Apple's new Chief Financial Officer?</td>\n",
       "      <td>Apple Inc. has announced the appointment of Ti...</td>\n",
       "      <td>Kevan Parekh</td>\n",
       "      <td>Apple's Board of Directors appointed Kevan Par...</td>\n",
       "      <td>3.20</td>\n",
       "      <td>2419</td>\n",
       "      <td>553</td>\n",
       "      <td>1</td>\n",
       "      <td>0.0</td>\n",
       "      <td>This response inaccurately identifies Tim Cook...</td>\n",
       "      <td>Overall, the responses overwhelmingly failed t...</td>\n",
       "    </tr>\n",
       "    <tr>\n",
       "      <th>1</th>\n",
       "      <td>smollm:135m</td>\n",
       "      <td>KG_ONLY</td>\n",
       "      <td>user1</td>\n",
       "      <td>Who is Apple's new Chief Financial Officer?</td>\n",
       "      <td>Apple has announced that it will be appointing...</td>\n",
       "      <td>Kevan Parekh</td>\n",
       "      <td>Apple's Board of Directors appointed Kevan Par...</td>\n",
       "      <td>3.01</td>\n",
       "      <td>4848</td>\n",
       "      <td>927</td>\n",
       "      <td>1</td>\n",
       "      <td>0.0</td>\n",
       "      <td>This response discusses the appointment of a n...</td>\n",
       "      <td>Overall, the responses overwhelmingly failed t...</td>\n",
       "    </tr>\n",
       "  </tbody>\n",
       "</table>\n",
       "</div>"
      ],
      "text/plain": [
       "         model   access   user                                     question  \\\n",
       "0  smollm:1.7b  KG_ONLY  user1  Who is Apple's new Chief Financial Officer?   \n",
       "1  smollm:135m  KG_ONLY  user1  Who is Apple's new Chief Financial Officer?   \n",
       "\n",
       "                                            response        answer  \\\n",
       "0  Apple Inc. has announced the appointment of Ti...  Kevan Parekh   \n",
       "1  Apple has announced that it will be appointing...  Kevan Parekh   \n",
       "\n",
       "                                           reference  response_time  \\\n",
       "0  Apple's Board of Directors appointed Kevan Par...           3.20   \n",
       "1  Apple's Board of Directors appointed Kevan Par...           3.01   \n",
       "\n",
       "   response_length  response_tokens  qid  score  \\\n",
       "0             2419              553    1    0.0   \n",
       "1             4848              927    1    0.0   \n",
       "\n",
       "                                           reasoning  \\\n",
       "0  This response inaccurately identifies Tim Cook...   \n",
       "1  This response discusses the appointment of a n...   \n",
       "\n",
       "                                       meta_analysis  \n",
       "0  Overall, the responses overwhelmingly failed t...  \n",
       "1  Overall, the responses overwhelmingly failed t...  "
      ]
     },
     "execution_count": 3,
     "metadata": {},
     "output_type": "execute_result"
    }
   ],
   "source": [
    "final_df = pd.read_csv('./results/results_with_scores.csv')\n",
    "final_df.head(2)"
   ]
  },
  {
   "cell_type": "code",
   "execution_count": 4,
   "metadata": {},
   "outputs": [],
   "source": [
    "from opik.evaluation.metrics import ContextPrecision, ContextRecall, Usefulness, AnswerRelevance, Hallucination, LevenshteinRatio\n",
    "\n",
    "def calculate_metrics(df):\n",
    "    \"\"\"\n",
    "    Calculate various metrics for each row in the dataframe.\n",
    "    \n",
    "    Args:\n",
    "        df: Pandas DataFrame containing columns 'question', 'response', 'reference', 'answer'\n",
    "    \n",
    "    Returns:\n",
    "        DataFrame with additional metric columns\n",
    "    \"\"\"\n",
    "    # Create copy to avoid modifying original\n",
    "    result_df = df.copy()\n",
    "    \n",
    "    # Initialize metric columns\n",
    "    metric_columns = ['levenshtein_ratio', 'levenshtein_ratio_reason',\n",
    "                     'hallucination_score', 'hallucination_score_reason', \n",
    "                     'answer_relevance', 'answer_relevance_reason',\n",
    "                     'usefulness', 'usefulness_reason',\n",
    "                     'context_precision', 'context_precision_reason',\n",
    "                     'context_recall', 'context_recall_reason']\n",
    "    for col in metric_columns:\n",
    "        if col.split('_')[-1] == 'reason':\n",
    "            result_df[col] = pd.Series(dtype='object', data = 'N/A')\n",
    "        else:\n",
    "            result_df[col] = pd.Series(dtype='float64', data = -1.0)\n",
    "        \n",
    "    # Calculate metrics for each row\n",
    "    for idx, row in tqdm(result_df.iterrows(), total=len(result_df)):\n",
    "        try:\n",
    "            # LevenshteinRatio\n",
    "            metric = LevenshteinRatio()\n",
    "            score = metric.score(output=row['response'], reference=row['reference'])\n",
    "            result_df.at[idx, 'levenshtein_ratio'] = score\n",
    "            result_df.at[idx, 'levenshtein_ratio_reason'] = score.reason\n",
    "        except:\n",
    "            pass\n",
    "            \n",
    "        try:\n",
    "            # Hallucination\n",
    "            metric = Hallucination(model=\"gpt-4o-mini\")\n",
    "            score = metric.score(\n",
    "                input=row['question'],\n",
    "                output=row['response'],\n",
    "                context=[row['reference']]\n",
    "            )\n",
    "            result_df.at[idx, 'hallucination_score'] = score.value\n",
    "            result_df.at[idx, 'hallucination_score_reason'] = score.reason\n",
    "        except:\n",
    "            pass\n",
    "            \n",
    "        try:\n",
    "            # AnswerRelevance\n",
    "            metric = AnswerRelevance(model=\"gpt-4o-mini\")\n",
    "            score = metric.score(\n",
    "                input=row['question'],\n",
    "                output=row['response'],\n",
    "                context=[row['reference']]\n",
    "            )\n",
    "            result_df.at[idx, 'answer_relevance'] = score.value\n",
    "            result_df.at[idx, 'answer_relevance_reason'] = score.reason\n",
    "        except:\n",
    "            pass\n",
    "            \n",
    "        try:\n",
    "            # Usefulness\n",
    "            metric = Usefulness(model=\"gpt-4o-mini\")\n",
    "            score = metric.score(\n",
    "                input=row['question'],\n",
    "                output=row['response']\n",
    "            )\n",
    "            result_df.at[idx, 'usefulness'] = score.value\n",
    "            result_df.at[idx, 'usefulness_reason'] = score.reason\n",
    "        except:\n",
    "            pass\n",
    "            \n",
    "        try:\n",
    "            # ContextPrecision\n",
    "            metric = ContextPrecision(model=\"gpt-4o-mini\")\n",
    "            score = metric.score(\n",
    "                input=row['question'],\n",
    "                output=row['response'],\n",
    "                expected_output=row['answer'],\n",
    "                context=[row['reference']]\n",
    "            )\n",
    "            result_df.at[idx, 'context_precision'] = score.value\n",
    "            result_df.at[idx, 'context_precision_reason'] = score.reason\n",
    "        except:\n",
    "            pass\n",
    "            \n",
    "        try:\n",
    "            # ContextRecall\n",
    "            metric = ContextRecall(model=\"gpt-4o-mini\")\n",
    "            score = metric.score(\n",
    "                input=row['question'],\n",
    "                output=row['response'],\n",
    "                expected_output=row['answer'],\n",
    "                context=[row['reference']]\n",
    "            )\n",
    "            result_df.at[idx, 'context_recall'] = score.value\n",
    "            result_df.at[idx, 'context_recall_reason'] = score.reason\n",
    "        except:\n",
    "            pass\n",
    "            \n",
    "    return result_df"
   ]
  },
  {
   "cell_type": "code",
   "execution_count": null,
   "metadata": {},
   "outputs": [],
   "source": [
    "import warnings\n",
    "warnings.filterwarnings('ignore', category=FutureWarning)\n",
    "\n",
    "final_df_opik = calculate_metrics(final_df)\n",
    "# final_df_opik.to_csv('./results/results_with_scores_and_metrics.csv', index = False)\n",
    "final_df_opik.head(2)"
   ]
  },
  {
   "cell_type": "code",
   "execution_count": 7,
   "metadata": {},
   "outputs": [
    {
     "data": {
      "text/html": [
       "<div>\n",
       "<style scoped>\n",
       "    .dataframe tbody tr th:only-of-type {\n",
       "        vertical-align: middle;\n",
       "    }\n",
       "\n",
       "    .dataframe tbody tr th {\n",
       "        vertical-align: top;\n",
       "    }\n",
       "\n",
       "    .dataframe thead th {\n",
       "        text-align: right;\n",
       "    }\n",
       "</style>\n",
       "<table border=\"1\" class=\"dataframe\">\n",
       "  <thead>\n",
       "    <tr style=\"text-align: right;\">\n",
       "      <th></th>\n",
       "      <th>model</th>\n",
       "      <th>access</th>\n",
       "      <th>user</th>\n",
       "      <th>question</th>\n",
       "      <th>response</th>\n",
       "      <th>answer</th>\n",
       "      <th>reference</th>\n",
       "      <th>response_time</th>\n",
       "      <th>response_length</th>\n",
       "      <th>response_tokens</th>\n",
       "      <th>...</th>\n",
       "      <th>hallucination_score</th>\n",
       "      <th>hallucination_score_reason</th>\n",
       "      <th>answer_relevance</th>\n",
       "      <th>answer_relevance_reason</th>\n",
       "      <th>usefulness</th>\n",
       "      <th>usefulness_reason</th>\n",
       "      <th>context_precision</th>\n",
       "      <th>context_precision_reason</th>\n",
       "      <th>context_recall</th>\n",
       "      <th>context_recall_reason</th>\n",
       "    </tr>\n",
       "  </thead>\n",
       "  <tbody>\n",
       "    <tr>\n",
       "      <th>0</th>\n",
       "      <td>smollm:1.7b</td>\n",
       "      <td>KG_ONLY</td>\n",
       "      <td>user1</td>\n",
       "      <td>Who is Apple's new Chief Financial Officer?</td>\n",
       "      <td>Apple Inc. has announced the appointment of Ti...</td>\n",
       "      <td>Kevan Parekh</td>\n",
       "      <td>Apple's Board of Directors appointed Kevan Par...</td>\n",
       "      <td>3.20</td>\n",
       "      <td>2419</td>\n",
       "      <td>553</td>\n",
       "      <td>...</td>\n",
       "      <td>1.0</td>\n",
       "      <td>['The OUTPUT incorrectly states that Tim Cook ...</td>\n",
       "      <td>0.2</td>\n",
       "      <td>The answer incorrectly identifies Tim Cook as ...</td>\n",
       "      <td>0.2</td>\n",
       "      <td>The response incorrectly identifies Tim Cook a...</td>\n",
       "      <td>0.0</td>\n",
       "      <td>The output identifies Tim Cook as the Chief Fi...</td>\n",
       "      <td>0.0</td>\n",
       "      <td>The response provided by the LLM incorrectly i...</td>\n",
       "    </tr>\n",
       "    <tr>\n",
       "      <th>1</th>\n",
       "      <td>smollm:135m</td>\n",
       "      <td>KG_ONLY</td>\n",
       "      <td>user1</td>\n",
       "      <td>Who is Apple's new Chief Financial Officer?</td>\n",
       "      <td>Apple has announced that it will be appointing...</td>\n",
       "      <td>Kevan Parekh</td>\n",
       "      <td>Apple's Board of Directors appointed Kevan Par...</td>\n",
       "      <td>3.01</td>\n",
       "      <td>4848</td>\n",
       "      <td>927</td>\n",
       "      <td>...</td>\n",
       "      <td>1.0</td>\n",
       "      <td>[\"The OUTPUT incorrectly states that a new Chi...</td>\n",
       "      <td>0.3</td>\n",
       "      <td>The answer does not provide the name of Apple'...</td>\n",
       "      <td>0.2</td>\n",
       "      <td>The response does not provide the name of Appl...</td>\n",
       "      <td>0.0</td>\n",
       "      <td>The output does not answer the question regard...</td>\n",
       "      <td>0.1</td>\n",
       "      <td>The response provided by the LLM does not answ...</td>\n",
       "    </tr>\n",
       "    <tr>\n",
       "      <th>2</th>\n",
       "      <td>smollm:360m</td>\n",
       "      <td>KG_ONLY</td>\n",
       "      <td>user1</td>\n",
       "      <td>Who is Apple's new Chief Financial Officer?</td>\n",
       "      <td>Apple has announced that it will be hiring a n...</td>\n",
       "      <td>Kevan Parekh</td>\n",
       "      <td>Apple's Board of Directors appointed Kevan Par...</td>\n",
       "      <td>2.58</td>\n",
       "      <td>3343</td>\n",
       "      <td>651</td>\n",
       "      <td>...</td>\n",
       "      <td>1.0</td>\n",
       "      <td>['The OUTPUT introduces substantial new inform...</td>\n",
       "      <td>0.4</td>\n",
       "      <td>The answer discusses the hiring of a new Chief...</td>\n",
       "      <td>0.2</td>\n",
       "      <td>The response does not answer the user's questi...</td>\n",
       "      <td>0.0</td>\n",
       "      <td>The answer provided does not address the speci...</td>\n",
       "      <td>0.1</td>\n",
       "      <td>The LLM's response provides extensive informat...</td>\n",
       "    </tr>\n",
       "    <tr>\n",
       "      <th>3</th>\n",
       "      <td>phi4:latest</td>\n",
       "      <td>KG_ONLY</td>\n",
       "      <td>user1</td>\n",
       "      <td>Who is Apple's new Chief Financial Officer?</td>\n",
       "      <td>As of my last update, Lisa Jackson held the po...</td>\n",
       "      <td>Kevan Parekh</td>\n",
       "      <td>Apple's Board of Directors appointed Kevan Par...</td>\n",
       "      <td>3.38</td>\n",
       "      <td>268</td>\n",
       "      <td>54</td>\n",
       "      <td>...</td>\n",
       "      <td>1.0</td>\n",
       "      <td>['The OUTPUT incorrectly states that Lisa Jack...</td>\n",
       "      <td>0.3</td>\n",
       "      <td>The answer provides information about Apple's ...</td>\n",
       "      <td>0.4</td>\n",
       "      <td>The response provides partially accurate infor...</td>\n",
       "      <td>0.0</td>\n",
       "      <td>The provided output incorrectly states that Li...</td>\n",
       "      <td>0.2</td>\n",
       "      <td>The LLM's response states that Lisa Jackson is...</td>\n",
       "    </tr>\n",
       "    <tr>\n",
       "      <th>4</th>\n",
       "      <td>qwen2.5:1.5b</td>\n",
       "      <td>KG_ONLY</td>\n",
       "      <td>user1</td>\n",
       "      <td>Who is Apple's new Chief Financial Officer?</td>\n",
       "      <td>As of my last update in 2023, the chief financ...</td>\n",
       "      <td>Kevan Parekh</td>\n",
       "      <td>Apple's Board of Directors appointed Kevan Par...</td>\n",
       "      <td>1.88</td>\n",
       "      <td>455</td>\n",
       "      <td>96</td>\n",
       "      <td>...</td>\n",
       "      <td>1.0</td>\n",
       "      <td>[\"The OUTPUT incorrectly states that the CFO o...</td>\n",
       "      <td>0.4</td>\n",
       "      <td>The answer mentions John Legere as the CFO at ...</td>\n",
       "      <td>0.2</td>\n",
       "      <td>The response incorrectly identifies John Leger...</td>\n",
       "      <td>0.2</td>\n",
       "      <td>The answer provided mentions John Legere as Ap...</td>\n",
       "      <td>0.3</td>\n",
       "      <td>The LLM's response identifies John Legere as A...</td>\n",
       "    </tr>\n",
       "    <tr>\n",
       "      <th>5</th>\n",
       "      <td>llama3.2:latest</td>\n",
       "      <td>KG_ONLY</td>\n",
       "      <td>user1</td>\n",
       "      <td>Who is Apple's new Chief Financial Officer?</td>\n",
       "      <td>I'm not aware of any recent changes to Apple's...</td>\n",
       "      <td>Kevan Parekh</td>\n",
       "      <td>Apple's Board of Directors appointed Kevan Par...</td>\n",
       "      <td>2.21</td>\n",
       "      <td>313</td>\n",
       "      <td>73</td>\n",
       "      <td>...</td>\n",
       "      <td>1.0</td>\n",
       "      <td>['The OUTPUT states that Tim Cook was the Chie...</td>\n",
       "      <td>0.3</td>\n",
       "      <td>The answer fails to provide the requested info...</td>\n",
       "      <td>0.4</td>\n",
       "      <td>The AI response acknowledges a lack of recent ...</td>\n",
       "      <td>0.2</td>\n",
       "      <td>The answer provided indicates a lack of awaren...</td>\n",
       "      <td>0.2</td>\n",
       "      <td>The LLM's response does not address the user's...</td>\n",
       "    </tr>\n",
       "    <tr>\n",
       "      <th>6</th>\n",
       "      <td>llama3.2:1b</td>\n",
       "      <td>KG_ONLY</td>\n",
       "      <td>user1</td>\n",
       "      <td>Who is Apple's new Chief Financial Officer?</td>\n",
       "      <td>I don't have the most current information on A...</td>\n",
       "      <td>Kevan Parekh</td>\n",
       "      <td>Apple's Board of Directors appointed Kevan Par...</td>\n",
       "      <td>2.55</td>\n",
       "      <td>351</td>\n",
       "      <td>67</td>\n",
       "      <td>...</td>\n",
       "      <td>1.0</td>\n",
       "      <td>['The OUTPUT fails to acknowledge that Kevan P...</td>\n",
       "      <td>0.4</td>\n",
       "      <td>The answer acknowledges the possibility of out...</td>\n",
       "      <td>0.6</td>\n",
       "      <td>The AI response addresses the user's question ...</td>\n",
       "      <td>0.4</td>\n",
       "      <td>The LLM's output recognizes uncertainty regard...</td>\n",
       "      <td>0.2</td>\n",
       "      <td>The LLM's response does not directly answer th...</td>\n",
       "    </tr>\n",
       "    <tr>\n",
       "      <th>7</th>\n",
       "      <td>qwen2.5:0.5b</td>\n",
       "      <td>KG_ONLY</td>\n",
       "      <td>user1</td>\n",
       "      <td>Who is Apple's new Chief Financial Officer?</td>\n",
       "      <td>Apple Inc.'s Chief Financial Officer (CFO) has...</td>\n",
       "      <td>Kevan Parekh</td>\n",
       "      <td>Apple's Board of Directors appointed Kevan Par...</td>\n",
       "      <td>2.30</td>\n",
       "      <td>533</td>\n",
       "      <td>136</td>\n",
       "      <td>...</td>\n",
       "      <td>1.0</td>\n",
       "      <td>['The OUTPUT states that the CFO position has ...</td>\n",
       "      <td>0.3</td>\n",
       "      <td>The answer mentions previous CFOs at Apple and...</td>\n",
       "      <td>0.2</td>\n",
       "      <td>The AI response provides inaccurate and outdat...</td>\n",
       "      <td>0.0</td>\n",
       "      <td>The answer provided by the LLM is completely i...</td>\n",
       "      <td>0.1</td>\n",
       "      <td>The LLM's response provides an incorrect persp...</td>\n",
       "    </tr>\n",
       "    <tr>\n",
       "      <th>8</th>\n",
       "      <td>qwen2.5:7b</td>\n",
       "      <td>KG_ONLY</td>\n",
       "      <td>user1</td>\n",
       "      <td>Who is Apple's new Chief Financial Officer?</td>\n",
       "      <td>As of my last update in October 2023, the curr...</td>\n",
       "      <td>Kevan Parekh</td>\n",
       "      <td>Apple's Board of Directors appointed Kevan Par...</td>\n",
       "      <td>4.15</td>\n",
       "      <td>390</td>\n",
       "      <td>93</td>\n",
       "      <td>...</td>\n",
       "      <td>1.0</td>\n",
       "      <td>['The OUTPUT incorrectly states that Zaq Cassi...</td>\n",
       "      <td>0.4</td>\n",
       "      <td>The answer correctly identifies Zaq Cassidyan ...</td>\n",
       "      <td>0.8</td>\n",
       "      <td>The response effectively answers the user's qu...</td>\n",
       "      <td>0.0</td>\n",
       "      <td>The answer provided identifies Zaq Cassidyan a...</td>\n",
       "      <td>0.1</td>\n",
       "      <td>The LLM's response identifies the role of Chie...</td>\n",
       "    </tr>\n",
       "    <tr>\n",
       "      <th>9</th>\n",
       "      <td>phi3.5:latest</td>\n",
       "      <td>KG_ONLY</td>\n",
       "      <td>user1</td>\n",
       "      <td>Who is Apple's new Chief Financial Officer?</td>\n",
       "      <td>As of my knowledge cutoff in early 2023, Tracy...</td>\n",
       "      <td>Kevan Parekh</td>\n",
       "      <td>Apple's Board of Directors appointed Kevan Par...</td>\n",
       "      <td>1.34</td>\n",
       "      <td>436</td>\n",
       "      <td>106</td>\n",
       "      <td>...</td>\n",
       "      <td>1.0</td>\n",
       "      <td>['The OUTPUT incorrectly states that Tracy You...</td>\n",
       "      <td>0.4</td>\n",
       "      <td>The answer correctly names Tracy Young as the ...</td>\n",
       "      <td>0.8</td>\n",
       "      <td>The response is accurate in identifying Tracy ...</td>\n",
       "      <td>0.2</td>\n",
       "      <td>The LLM's answer inaccurately names Tracy Youn...</td>\n",
       "      <td>0.0</td>\n",
       "      <td>The LLM's response identifies the new CFO as T...</td>\n",
       "    </tr>\n",
       "  </tbody>\n",
       "</table>\n",
       "<p>10 rows × 26 columns</p>\n",
       "</div>"
      ],
      "text/plain": [
       "             model   access   user  \\\n",
       "0      smollm:1.7b  KG_ONLY  user1   \n",
       "1      smollm:135m  KG_ONLY  user1   \n",
       "2      smollm:360m  KG_ONLY  user1   \n",
       "3      phi4:latest  KG_ONLY  user1   \n",
       "4     qwen2.5:1.5b  KG_ONLY  user1   \n",
       "5  llama3.2:latest  KG_ONLY  user1   \n",
       "6      llama3.2:1b  KG_ONLY  user1   \n",
       "7     qwen2.5:0.5b  KG_ONLY  user1   \n",
       "8       qwen2.5:7b  KG_ONLY  user1   \n",
       "9    phi3.5:latest  KG_ONLY  user1   \n",
       "\n",
       "                                      question  \\\n",
       "0  Who is Apple's new Chief Financial Officer?   \n",
       "1  Who is Apple's new Chief Financial Officer?   \n",
       "2  Who is Apple's new Chief Financial Officer?   \n",
       "3  Who is Apple's new Chief Financial Officer?   \n",
       "4  Who is Apple's new Chief Financial Officer?   \n",
       "5  Who is Apple's new Chief Financial Officer?   \n",
       "6  Who is Apple's new Chief Financial Officer?   \n",
       "7  Who is Apple's new Chief Financial Officer?   \n",
       "8  Who is Apple's new Chief Financial Officer?   \n",
       "9  Who is Apple's new Chief Financial Officer?   \n",
       "\n",
       "                                            response        answer  \\\n",
       "0  Apple Inc. has announced the appointment of Ti...  Kevan Parekh   \n",
       "1  Apple has announced that it will be appointing...  Kevan Parekh   \n",
       "2  Apple has announced that it will be hiring a n...  Kevan Parekh   \n",
       "3  As of my last update, Lisa Jackson held the po...  Kevan Parekh   \n",
       "4  As of my last update in 2023, the chief financ...  Kevan Parekh   \n",
       "5  I'm not aware of any recent changes to Apple's...  Kevan Parekh   \n",
       "6  I don't have the most current information on A...  Kevan Parekh   \n",
       "7  Apple Inc.'s Chief Financial Officer (CFO) has...  Kevan Parekh   \n",
       "8  As of my last update in October 2023, the curr...  Kevan Parekh   \n",
       "9  As of my knowledge cutoff in early 2023, Tracy...  Kevan Parekh   \n",
       "\n",
       "                                           reference  response_time  \\\n",
       "0  Apple's Board of Directors appointed Kevan Par...           3.20   \n",
       "1  Apple's Board of Directors appointed Kevan Par...           3.01   \n",
       "2  Apple's Board of Directors appointed Kevan Par...           2.58   \n",
       "3  Apple's Board of Directors appointed Kevan Par...           3.38   \n",
       "4  Apple's Board of Directors appointed Kevan Par...           1.88   \n",
       "5  Apple's Board of Directors appointed Kevan Par...           2.21   \n",
       "6  Apple's Board of Directors appointed Kevan Par...           2.55   \n",
       "7  Apple's Board of Directors appointed Kevan Par...           2.30   \n",
       "8  Apple's Board of Directors appointed Kevan Par...           4.15   \n",
       "9  Apple's Board of Directors appointed Kevan Par...           1.34   \n",
       "\n",
       "   response_length  response_tokens  ...  hallucination_score  \\\n",
       "0             2419              553  ...                  1.0   \n",
       "1             4848              927  ...                  1.0   \n",
       "2             3343              651  ...                  1.0   \n",
       "3              268               54  ...                  1.0   \n",
       "4              455               96  ...                  1.0   \n",
       "5              313               73  ...                  1.0   \n",
       "6              351               67  ...                  1.0   \n",
       "7              533              136  ...                  1.0   \n",
       "8              390               93  ...                  1.0   \n",
       "9              436              106  ...                  1.0   \n",
       "\n",
       "                          hallucination_score_reason answer_relevance  \\\n",
       "0  ['The OUTPUT incorrectly states that Tim Cook ...              0.2   \n",
       "1  [\"The OUTPUT incorrectly states that a new Chi...              0.3   \n",
       "2  ['The OUTPUT introduces substantial new inform...              0.4   \n",
       "3  ['The OUTPUT incorrectly states that Lisa Jack...              0.3   \n",
       "4  [\"The OUTPUT incorrectly states that the CFO o...              0.4   \n",
       "5  ['The OUTPUT states that Tim Cook was the Chie...              0.3   \n",
       "6  ['The OUTPUT fails to acknowledge that Kevan P...              0.4   \n",
       "7  ['The OUTPUT states that the CFO position has ...              0.3   \n",
       "8  ['The OUTPUT incorrectly states that Zaq Cassi...              0.4   \n",
       "9  ['The OUTPUT incorrectly states that Tracy You...              0.4   \n",
       "\n",
       "                             answer_relevance_reason usefulness  \\\n",
       "0  The answer incorrectly identifies Tim Cook as ...        0.2   \n",
       "1  The answer does not provide the name of Apple'...        0.2   \n",
       "2  The answer discusses the hiring of a new Chief...        0.2   \n",
       "3  The answer provides information about Apple's ...        0.4   \n",
       "4  The answer mentions John Legere as the CFO at ...        0.2   \n",
       "5  The answer fails to provide the requested info...        0.4   \n",
       "6  The answer acknowledges the possibility of out...        0.6   \n",
       "7  The answer mentions previous CFOs at Apple and...        0.2   \n",
       "8  The answer correctly identifies Zaq Cassidyan ...        0.8   \n",
       "9  The answer correctly names Tracy Young as the ...        0.8   \n",
       "\n",
       "                                   usefulness_reason  context_precision  \\\n",
       "0  The response incorrectly identifies Tim Cook a...                0.0   \n",
       "1  The response does not provide the name of Appl...                0.0   \n",
       "2  The response does not answer the user's questi...                0.0   \n",
       "3  The response provides partially accurate infor...                0.0   \n",
       "4  The response incorrectly identifies John Leger...                0.2   \n",
       "5  The AI response acknowledges a lack of recent ...                0.2   \n",
       "6  The AI response addresses the user's question ...                0.4   \n",
       "7  The AI response provides inaccurate and outdat...                0.0   \n",
       "8  The response effectively answers the user's qu...                0.0   \n",
       "9  The response is accurate in identifying Tracy ...                0.2   \n",
       "\n",
       "                            context_precision_reason  context_recall  \\\n",
       "0  The output identifies Tim Cook as the Chief Fi...             0.0   \n",
       "1  The output does not answer the question regard...             0.1   \n",
       "2  The answer provided does not address the speci...             0.1   \n",
       "3  The provided output incorrectly states that Li...             0.2   \n",
       "4  The answer provided mentions John Legere as Ap...             0.3   \n",
       "5  The answer provided indicates a lack of awaren...             0.2   \n",
       "6  The LLM's output recognizes uncertainty regard...             0.2   \n",
       "7  The answer provided by the LLM is completely i...             0.1   \n",
       "8  The answer provided identifies Zaq Cassidyan a...             0.1   \n",
       "9  The LLM's answer inaccurately names Tracy Youn...             0.0   \n",
       "\n",
       "                               context_recall_reason  \n",
       "0  The response provided by the LLM incorrectly i...  \n",
       "1  The response provided by the LLM does not answ...  \n",
       "2  The LLM's response provides extensive informat...  \n",
       "3  The LLM's response states that Lisa Jackson is...  \n",
       "4  The LLM's response identifies John Legere as A...  \n",
       "5  The LLM's response does not address the user's...  \n",
       "6  The LLM's response does not directly answer th...  \n",
       "7  The LLM's response provides an incorrect persp...  \n",
       "8  The LLM's response identifies the role of Chie...  \n",
       "9  The LLM's response identifies the new CFO as T...  \n",
       "\n",
       "[10 rows x 26 columns]"
      ]
     },
     "execution_count": 7,
     "metadata": {},
     "output_type": "execute_result"
    }
   ],
   "source": [
    "final_df_opik.head(10)"
   ]
  },
  {
   "cell_type": "code",
   "execution_count": 8,
   "metadata": {},
   "outputs": [
    {
     "data": {
      "text/plain": [
       "Index(['model', 'access', 'user', 'question', 'response', 'answer',\n",
       "       'reference', 'response_time', 'response_length', 'response_tokens',\n",
       "       'qid', 'score', 'reasoning', 'meta_analysis', 'levenshtein_ratio',\n",
       "       'levenshtein_ratio_reason', 'hallucination_score',\n",
       "       'hallucination_score_reason', 'answer_relevance',\n",
       "       'answer_relevance_reason', 'usefulness', 'usefulness_reason',\n",
       "       'context_precision', 'context_precision_reason', 'context_recall',\n",
       "       'context_recall_reason'],\n",
       "      dtype='object')"
      ]
     },
     "execution_count": 8,
     "metadata": {},
     "output_type": "execute_result"
    }
   ],
   "source": [
    "final_df_opik.columns"
   ]
  },
  {
   "cell_type": "markdown",
   "metadata": {},
   "source": [
    "## Metrics"
   ]
  },
  {
   "cell_type": "code",
   "execution_count": 33,
   "metadata": {},
   "outputs": [
    {
     "data": {
      "text/html": [
       "<div>\n",
       "<style scoped>\n",
       "    .dataframe tbody tr th:only-of-type {\n",
       "        vertical-align: middle;\n",
       "    }\n",
       "\n",
       "    .dataframe tbody tr th {\n",
       "        vertical-align: top;\n",
       "    }\n",
       "\n",
       "    .dataframe thead th {\n",
       "        text-align: right;\n",
       "    }\n",
       "</style>\n",
       "<table border=\"1\" class=\"dataframe\">\n",
       "  <thead>\n",
       "    <tr style=\"text-align: right;\">\n",
       "      <th></th>\n",
       "      <th>model</th>\n",
       "      <th>response_time</th>\n",
       "      <th>score</th>\n",
       "      <th>hallucination_score</th>\n",
       "      <th>answer_relevance</th>\n",
       "      <th>usefulness</th>\n",
       "      <th>context_precision</th>\n",
       "      <th>context_recall</th>\n",
       "    </tr>\n",
       "  </thead>\n",
       "  <tbody>\n",
       "    <tr>\n",
       "      <th>0</th>\n",
       "      <td>deepseek-r1:1.5b</td>\n",
       "      <td>2.879045</td>\n",
       "      <td>3.197452</td>\n",
       "      <td>0.943312</td>\n",
       "      <td>0.592038</td>\n",
       "      <td>0.515924</td>\n",
       "      <td>0.197452</td>\n",
       "      <td>0.212102</td>\n",
       "    </tr>\n",
       "    <tr>\n",
       "      <th>1</th>\n",
       "      <td>deepseek-r1:32b</td>\n",
       "      <td>20.925987</td>\n",
       "      <td>3.280255</td>\n",
       "      <td>0.810191</td>\n",
       "      <td>0.674204</td>\n",
       "      <td>0.647771</td>\n",
       "      <td>0.221656</td>\n",
       "      <td>0.257325</td>\n",
       "    </tr>\n",
       "    <tr>\n",
       "      <th>2</th>\n",
       "      <td>llama3.2:1b</td>\n",
       "      <td>0.699745</td>\n",
       "      <td>2.598726</td>\n",
       "      <td>0.935032</td>\n",
       "      <td>0.385987</td>\n",
       "      <td>0.420382</td>\n",
       "      <td>0.178344</td>\n",
       "      <td>0.165605</td>\n",
       "    </tr>\n",
       "    <tr>\n",
       "      <th>3</th>\n",
       "      <td>llama3.2:latest</td>\n",
       "      <td>0.681911</td>\n",
       "      <td>3.840764</td>\n",
       "      <td>0.856051</td>\n",
       "      <td>0.386943</td>\n",
       "      <td>0.415287</td>\n",
       "      <td>0.197452</td>\n",
       "      <td>0.180892</td>\n",
       "    </tr>\n",
       "    <tr>\n",
       "      <th>4</th>\n",
       "      <td>mistral-small:24b</td>\n",
       "      <td>3.382930</td>\n",
       "      <td>2.649682</td>\n",
       "      <td>0.930892</td>\n",
       "      <td>0.484395</td>\n",
       "      <td>0.566879</td>\n",
       "      <td>0.219108</td>\n",
       "      <td>0.189809</td>\n",
       "    </tr>\n",
       "    <tr>\n",
       "      <th>5</th>\n",
       "      <td>phi3.5:latest</td>\n",
       "      <td>2.820510</td>\n",
       "      <td>0.847134</td>\n",
       "      <td>0.998089</td>\n",
       "      <td>0.128981</td>\n",
       "      <td>0.087898</td>\n",
       "      <td>0.025478</td>\n",
       "      <td>0.050318</td>\n",
       "    </tr>\n",
       "    <tr>\n",
       "      <th>6</th>\n",
       "      <td>phi4:latest</td>\n",
       "      <td>3.208280</td>\n",
       "      <td>5.936306</td>\n",
       "      <td>0.872930</td>\n",
       "      <td>0.590127</td>\n",
       "      <td>0.714650</td>\n",
       "      <td>0.226752</td>\n",
       "      <td>0.242038</td>\n",
       "    </tr>\n",
       "    <tr>\n",
       "      <th>7</th>\n",
       "      <td>qwen2.5:0.5b</td>\n",
       "      <td>0.661019</td>\n",
       "      <td>2.624204</td>\n",
       "      <td>0.914013</td>\n",
       "      <td>0.464968</td>\n",
       "      <td>0.478981</td>\n",
       "      <td>0.171975</td>\n",
       "      <td>0.184713</td>\n",
       "    </tr>\n",
       "    <tr>\n",
       "      <th>8</th>\n",
       "      <td>qwen2.5:1.5b</td>\n",
       "      <td>0.733057</td>\n",
       "      <td>3.273885</td>\n",
       "      <td>0.812102</td>\n",
       "      <td>0.446178</td>\n",
       "      <td>0.463694</td>\n",
       "      <td>0.192357</td>\n",
       "      <td>0.178344</td>\n",
       "    </tr>\n",
       "    <tr>\n",
       "      <th>9</th>\n",
       "      <td>qwen2.5:3b</td>\n",
       "      <td>1.109299</td>\n",
       "      <td>2.235669</td>\n",
       "      <td>0.900000</td>\n",
       "      <td>0.507643</td>\n",
       "      <td>0.592357</td>\n",
       "      <td>0.211465</td>\n",
       "      <td>0.203822</td>\n",
       "    </tr>\n",
       "    <tr>\n",
       "      <th>10</th>\n",
       "      <td>qwen2.5:7b</td>\n",
       "      <td>1.868981</td>\n",
       "      <td>3.808917</td>\n",
       "      <td>0.849045</td>\n",
       "      <td>0.606688</td>\n",
       "      <td>0.702548</td>\n",
       "      <td>0.245860</td>\n",
       "      <td>0.242675</td>\n",
       "    </tr>\n",
       "    <tr>\n",
       "      <th>11</th>\n",
       "      <td>smollm:1.7b</td>\n",
       "      <td>2.048726</td>\n",
       "      <td>2.407643</td>\n",
       "      <td>0.990446</td>\n",
       "      <td>0.469427</td>\n",
       "      <td>0.507006</td>\n",
       "      <td>0.112102</td>\n",
       "      <td>0.153503</td>\n",
       "    </tr>\n",
       "    <tr>\n",
       "      <th>12</th>\n",
       "      <td>smollm:135m</td>\n",
       "      <td>1.889597</td>\n",
       "      <td>1.791946</td>\n",
       "      <td>0.989933</td>\n",
       "      <td>0.320470</td>\n",
       "      <td>0.257718</td>\n",
       "      <td>0.084564</td>\n",
       "      <td>0.140268</td>\n",
       "    </tr>\n",
       "    <tr>\n",
       "      <th>13</th>\n",
       "      <td>smollm:360m</td>\n",
       "      <td>1.606859</td>\n",
       "      <td>2.519231</td>\n",
       "      <td>0.990385</td>\n",
       "      <td>0.378205</td>\n",
       "      <td>0.360256</td>\n",
       "      <td>0.084615</td>\n",
       "      <td>0.133333</td>\n",
       "    </tr>\n",
       "  </tbody>\n",
       "</table>\n",
       "</div>"
      ],
      "text/plain": [
       "                model  response_time     score  hallucination_score  \\\n",
       "0    deepseek-r1:1.5b       2.879045  3.197452             0.943312   \n",
       "1     deepseek-r1:32b      20.925987  3.280255             0.810191   \n",
       "2         llama3.2:1b       0.699745  2.598726             0.935032   \n",
       "3     llama3.2:latest       0.681911  3.840764             0.856051   \n",
       "4   mistral-small:24b       3.382930  2.649682             0.930892   \n",
       "5       phi3.5:latest       2.820510  0.847134             0.998089   \n",
       "6         phi4:latest       3.208280  5.936306             0.872930   \n",
       "7        qwen2.5:0.5b       0.661019  2.624204             0.914013   \n",
       "8        qwen2.5:1.5b       0.733057  3.273885             0.812102   \n",
       "9          qwen2.5:3b       1.109299  2.235669             0.900000   \n",
       "10         qwen2.5:7b       1.868981  3.808917             0.849045   \n",
       "11        smollm:1.7b       2.048726  2.407643             0.990446   \n",
       "12        smollm:135m       1.889597  1.791946             0.989933   \n",
       "13        smollm:360m       1.606859  2.519231             0.990385   \n",
       "\n",
       "    answer_relevance  usefulness  context_precision  context_recall  \n",
       "0           0.592038    0.515924           0.197452        0.212102  \n",
       "1           0.674204    0.647771           0.221656        0.257325  \n",
       "2           0.385987    0.420382           0.178344        0.165605  \n",
       "3           0.386943    0.415287           0.197452        0.180892  \n",
       "4           0.484395    0.566879           0.219108        0.189809  \n",
       "5           0.128981    0.087898           0.025478        0.050318  \n",
       "6           0.590127    0.714650           0.226752        0.242038  \n",
       "7           0.464968    0.478981           0.171975        0.184713  \n",
       "8           0.446178    0.463694           0.192357        0.178344  \n",
       "9           0.507643    0.592357           0.211465        0.203822  \n",
       "10          0.606688    0.702548           0.245860        0.242675  \n",
       "11          0.469427    0.507006           0.112102        0.153503  \n",
       "12          0.320470    0.257718           0.084564        0.140268  \n",
       "13          0.378205    0.360256           0.084615        0.133333  "
      ]
     },
     "execution_count": 33,
     "metadata": {},
     "output_type": "execute_result"
    }
   ],
   "source": [
    "metric_df = final_df_opik.groupby(['model'])[['response_time', 'score', 'hallucination_score', 'answer_relevance', 'usefulness', 'context_precision', 'context_recall']].mean().reset_index() #.to_csv('./results/model_metrics.csv', index = False)\n",
    "metric_df"
   ]
  },
  {
   "cell_type": "code",
   "execution_count": 39,
   "metadata": {},
   "outputs": [
    {
     "data": {
      "text/html": [
       "<div>\n",
       "<style scoped>\n",
       "    .dataframe tbody tr th:only-of-type {\n",
       "        vertical-align: middle;\n",
       "    }\n",
       "\n",
       "    .dataframe tbody tr th {\n",
       "        vertical-align: top;\n",
       "    }\n",
       "\n",
       "    .dataframe thead th {\n",
       "        text-align: right;\n",
       "    }\n",
       "</style>\n",
       "<table border=\"1\" class=\"dataframe\">\n",
       "  <thead>\n",
       "    <tr style=\"text-align: right;\">\n",
       "      <th></th>\n",
       "      <th>model</th>\n",
       "      <th>response_time</th>\n",
       "      <th>score</th>\n",
       "      <th>hallucination_score</th>\n",
       "      <th>answer_relevance</th>\n",
       "      <th>usefulness</th>\n",
       "      <th>context_precision</th>\n",
       "      <th>context_recall</th>\n",
       "    </tr>\n",
       "  </thead>\n",
       "  <tbody>\n",
       "    <tr>\n",
       "      <th>1</th>\n",
       "      <td>deepseek-r1:32b</td>\n",
       "      <td>20.925987</td>\n",
       "      <td>3.280255</td>\n",
       "      <td>0.810191</td>\n",
       "      <td>0.674204</td>\n",
       "      <td>0.647771</td>\n",
       "      <td>0.221656</td>\n",
       "      <td>0.257325</td>\n",
       "    </tr>\n",
       "    <tr>\n",
       "      <th>10</th>\n",
       "      <td>qwen2.5:7b</td>\n",
       "      <td>1.868981</td>\n",
       "      <td>3.808917</td>\n",
       "      <td>0.849045</td>\n",
       "      <td>0.606688</td>\n",
       "      <td>0.702548</td>\n",
       "      <td>0.245860</td>\n",
       "      <td>0.242675</td>\n",
       "    </tr>\n",
       "    <tr>\n",
       "      <th>0</th>\n",
       "      <td>deepseek-r1:1.5b</td>\n",
       "      <td>2.879045</td>\n",
       "      <td>3.197452</td>\n",
       "      <td>0.943312</td>\n",
       "      <td>0.592038</td>\n",
       "      <td>0.515924</td>\n",
       "      <td>0.197452</td>\n",
       "      <td>0.212102</td>\n",
       "    </tr>\n",
       "    <tr>\n",
       "      <th>6</th>\n",
       "      <td>phi4:latest</td>\n",
       "      <td>3.208280</td>\n",
       "      <td>5.936306</td>\n",
       "      <td>0.872930</td>\n",
       "      <td>0.590127</td>\n",
       "      <td>0.714650</td>\n",
       "      <td>0.226752</td>\n",
       "      <td>0.242038</td>\n",
       "    </tr>\n",
       "    <tr>\n",
       "      <th>9</th>\n",
       "      <td>qwen2.5:3b</td>\n",
       "      <td>1.109299</td>\n",
       "      <td>2.235669</td>\n",
       "      <td>0.900000</td>\n",
       "      <td>0.507643</td>\n",
       "      <td>0.592357</td>\n",
       "      <td>0.211465</td>\n",
       "      <td>0.203822</td>\n",
       "    </tr>\n",
       "    <tr>\n",
       "      <th>4</th>\n",
       "      <td>mistral-small:24b</td>\n",
       "      <td>3.382930</td>\n",
       "      <td>2.649682</td>\n",
       "      <td>0.930892</td>\n",
       "      <td>0.484395</td>\n",
       "      <td>0.566879</td>\n",
       "      <td>0.219108</td>\n",
       "      <td>0.189809</td>\n",
       "    </tr>\n",
       "    <tr>\n",
       "      <th>11</th>\n",
       "      <td>smollm:1.7b</td>\n",
       "      <td>2.048726</td>\n",
       "      <td>2.407643</td>\n",
       "      <td>0.990446</td>\n",
       "      <td>0.469427</td>\n",
       "      <td>0.507006</td>\n",
       "      <td>0.112102</td>\n",
       "      <td>0.153503</td>\n",
       "    </tr>\n",
       "    <tr>\n",
       "      <th>7</th>\n",
       "      <td>qwen2.5:0.5b</td>\n",
       "      <td>0.661019</td>\n",
       "      <td>2.624204</td>\n",
       "      <td>0.914013</td>\n",
       "      <td>0.464968</td>\n",
       "      <td>0.478981</td>\n",
       "      <td>0.171975</td>\n",
       "      <td>0.184713</td>\n",
       "    </tr>\n",
       "    <tr>\n",
       "      <th>8</th>\n",
       "      <td>qwen2.5:1.5b</td>\n",
       "      <td>0.733057</td>\n",
       "      <td>3.273885</td>\n",
       "      <td>0.812102</td>\n",
       "      <td>0.446178</td>\n",
       "      <td>0.463694</td>\n",
       "      <td>0.192357</td>\n",
       "      <td>0.178344</td>\n",
       "    </tr>\n",
       "    <tr>\n",
       "      <th>3</th>\n",
       "      <td>llama3.2:latest</td>\n",
       "      <td>0.681911</td>\n",
       "      <td>3.840764</td>\n",
       "      <td>0.856051</td>\n",
       "      <td>0.386943</td>\n",
       "      <td>0.415287</td>\n",
       "      <td>0.197452</td>\n",
       "      <td>0.180892</td>\n",
       "    </tr>\n",
       "    <tr>\n",
       "      <th>2</th>\n",
       "      <td>llama3.2:1b</td>\n",
       "      <td>0.699745</td>\n",
       "      <td>2.598726</td>\n",
       "      <td>0.935032</td>\n",
       "      <td>0.385987</td>\n",
       "      <td>0.420382</td>\n",
       "      <td>0.178344</td>\n",
       "      <td>0.165605</td>\n",
       "    </tr>\n",
       "    <tr>\n",
       "      <th>13</th>\n",
       "      <td>smollm:360m</td>\n",
       "      <td>1.606859</td>\n",
       "      <td>2.519231</td>\n",
       "      <td>0.990385</td>\n",
       "      <td>0.378205</td>\n",
       "      <td>0.360256</td>\n",
       "      <td>0.084615</td>\n",
       "      <td>0.133333</td>\n",
       "    </tr>\n",
       "    <tr>\n",
       "      <th>12</th>\n",
       "      <td>smollm:135m</td>\n",
       "      <td>1.889597</td>\n",
       "      <td>1.791946</td>\n",
       "      <td>0.989933</td>\n",
       "      <td>0.320470</td>\n",
       "      <td>0.257718</td>\n",
       "      <td>0.084564</td>\n",
       "      <td>0.140268</td>\n",
       "    </tr>\n",
       "    <tr>\n",
       "      <th>5</th>\n",
       "      <td>phi3.5:latest</td>\n",
       "      <td>2.820510</td>\n",
       "      <td>0.847134</td>\n",
       "      <td>0.998089</td>\n",
       "      <td>0.128981</td>\n",
       "      <td>0.087898</td>\n",
       "      <td>0.025478</td>\n",
       "      <td>0.050318</td>\n",
       "    </tr>\n",
       "  </tbody>\n",
       "</table>\n",
       "</div>"
      ],
      "text/plain": [
       "                model  response_time     score  hallucination_score  \\\n",
       "1     deepseek-r1:32b      20.925987  3.280255             0.810191   \n",
       "10         qwen2.5:7b       1.868981  3.808917             0.849045   \n",
       "0    deepseek-r1:1.5b       2.879045  3.197452             0.943312   \n",
       "6         phi4:latest       3.208280  5.936306             0.872930   \n",
       "9          qwen2.5:3b       1.109299  2.235669             0.900000   \n",
       "4   mistral-small:24b       3.382930  2.649682             0.930892   \n",
       "11        smollm:1.7b       2.048726  2.407643             0.990446   \n",
       "7        qwen2.5:0.5b       0.661019  2.624204             0.914013   \n",
       "8        qwen2.5:1.5b       0.733057  3.273885             0.812102   \n",
       "3     llama3.2:latest       0.681911  3.840764             0.856051   \n",
       "2         llama3.2:1b       0.699745  2.598726             0.935032   \n",
       "13        smollm:360m       1.606859  2.519231             0.990385   \n",
       "12        smollm:135m       1.889597  1.791946             0.989933   \n",
       "5       phi3.5:latest       2.820510  0.847134             0.998089   \n",
       "\n",
       "    answer_relevance  usefulness  context_precision  context_recall  \n",
       "1           0.674204    0.647771           0.221656        0.257325  \n",
       "10          0.606688    0.702548           0.245860        0.242675  \n",
       "0           0.592038    0.515924           0.197452        0.212102  \n",
       "6           0.590127    0.714650           0.226752        0.242038  \n",
       "9           0.507643    0.592357           0.211465        0.203822  \n",
       "4           0.484395    0.566879           0.219108        0.189809  \n",
       "11          0.469427    0.507006           0.112102        0.153503  \n",
       "7           0.464968    0.478981           0.171975        0.184713  \n",
       "8           0.446178    0.463694           0.192357        0.178344  \n",
       "3           0.386943    0.415287           0.197452        0.180892  \n",
       "2           0.385987    0.420382           0.178344        0.165605  \n",
       "13          0.378205    0.360256           0.084615        0.133333  \n",
       "12          0.320470    0.257718           0.084564        0.140268  \n",
       "5           0.128981    0.087898           0.025478        0.050318  "
      ]
     },
     "execution_count": 39,
     "metadata": {},
     "output_type": "execute_result"
    }
   ],
   "source": [
    "metric_df.sort_values(by='answer_relevance', ascending=False)"
   ]
  },
  {
   "cell_type": "markdown",
   "metadata": {},
   "source": [
    "# Plotting"
   ]
  },
  {
   "cell_type": "code",
   "execution_count": 9,
   "metadata": {},
   "outputs": [],
   "source": [
    "import seaborn as sns\n",
    "import matplotlib.pyplot as plt\n",
    "\n",
    "def config_seaborn():\n",
    "    palette = [\"#fa00e1\", \"#0019fa\" , \"#00fa15\", \"#00faee\", \"#faaf00\", \"#9200fa\", \"#edfa00\"]\n",
    "    sns_palette = sns.color_palette(palette, len(palette))\n",
    "    sns.set_style('whitegrid')\n",
    "    sns.set_context('talk')\n",
    "\n",
    "    return sns_palette"
   ]
  },
  {
   "cell_type": "code",
   "execution_count": 22,
   "metadata": {},
   "outputs": [
    {
     "name": "stderr",
     "output_type": "stream",
     "text": [
      "/var/folders/m1/mg27xm293zg8r4pj5rd35m6r0000gn/T/ipykernel_73502/2055099516.py:7: UserWarning:\n",
      "\n",
      "The palette list has more values (7) than needed (4), which may not be intended.\n",
      "\n"
     ]
    },
    {
     "data": {
      "image/png": "[encoded data removed]",
      "text/plain": [
       "<Figure size 2500x1000 with 1 Axes>"
      ]
     },
     "metadata": {},
     "output_type": "display_data"
    }
   ],
   "source": [
    "palette = config_seaborn()\n",
    "\n",
    "# Create figure\n",
    "plt.figure(figsize=(25, 10))\n",
    "\n",
    "# Create grouped bar plot\n",
    "ax = sns.barplot(\n",
    "    data=final_df_opik,\n",
    "    x='model',\n",
    "    y='score',\n",
    "    hue='access',\n",
    "    palette=palette\n",
    ")\n",
    "\n",
    "# Customize plot\n",
    "# plt.title('Statistical Measures Across Embedding Models', pad=20, size=14)\n",
    "plt.xlabel('LLM Model', size=25)\n",
    "plt.ylabel('Score (0-10)', size=25)\n",
    "\n",
    "# Rotate x-axis labels\n",
    "plt.xticks(rotation=15, fontsize=22)\n",
    "plt.yticks(fontsize=22)\n",
    "\n",
    "# Adjust legend\n",
    "plt.legend(\n",
    "    title='Input Type',\n",
    "    bbox_to_anchor=(0.5, 1.05),\n",
    "    loc='center',\n",
    "    ncol=4,\n",
    "    frameon=True,\n",
    "    fontsize=24,\n",
    "    title_fontsize=28\n",
    ")\n",
    "\n",
    "# Add grid for better readability\n",
    "plt.grid(True, axis='y', linestyle='--', alpha=0.7)\n",
    "\n",
    "# Adjust layout\n",
    "plt.tight_layout()\n",
    "\n",
    "plt.savefig('./plots/model_performance.png', dpi=300)\n",
    "# Show plot\n",
    "plt.show()"
   ]
  },
  {
   "cell_type": "markdown",
   "metadata": {},
   "source": [
    "# Opik Metrics"
   ]
  },
  {
   "cell_type": "code",
   "execution_count": 14,
   "metadata": {},
   "outputs": [
    {
     "name": "stdout",
     "output_type": "stream",
     "text": [
      "Index(['model', 'access', 'user', 'question', 'response', 'answer',\n",
      "       'reference', 'response_time', 'response_length', 'response_tokens',\n",
      "       'qid', 'score', 'reasoning', 'meta_analysis', 'levenshtein_ratio',\n",
      "       'levenshtein_ratio_reason', 'hallucination_score',\n",
      "       'hallucination_score_reason', 'answer_relevance',\n",
      "       'answer_relevance_reason', 'usefulness', 'usefulness_reason',\n",
      "       'context_precision', 'context_precision_reason', 'context_recall',\n",
      "       'context_recall_reason'],\n",
      "      dtype='object')\n"
     ]
    },
    {
     "data": {
      "text/html": [
       "<div>\n",
       "<style scoped>\n",
       "    .dataframe tbody tr th:only-of-type {\n",
       "        vertical-align: middle;\n",
       "    }\n",
       "\n",
       "    .dataframe tbody tr th {\n",
       "        vertical-align: top;\n",
       "    }\n",
       "\n",
       "    .dataframe thead th {\n",
       "        text-align: right;\n",
       "    }\n",
       "</style>\n",
       "<table border=\"1\" class=\"dataframe\">\n",
       "  <thead>\n",
       "    <tr style=\"text-align: right;\">\n",
       "      <th></th>\n",
       "      <th>model</th>\n",
       "      <th>access</th>\n",
       "      <th>user</th>\n",
       "      <th>question</th>\n",
       "      <th>response</th>\n",
       "      <th>answer</th>\n",
       "      <th>reference</th>\n",
       "      <th>response_time</th>\n",
       "      <th>response_length</th>\n",
       "      <th>response_tokens</th>\n",
       "      <th>qid</th>\n",
       "      <th>score</th>\n",
       "      <th>reasoning</th>\n",
       "      <th>meta_analysis</th>\n",
       "      <th>levenshtein_ratio</th>\n",
       "      <th>levenshtein_ratio_reason</th>\n",
       "      <th>hallucination_score</th>\n",
       "      <th>hallucination_score_reason</th>\n",
       "      <th>answer_relevance</th>\n",
       "      <th>answer_relevance_reason</th>\n",
       "      <th>usefulness</th>\n",
       "      <th>usefulness_reason</th>\n",
       "      <th>context_precision</th>\n",
       "      <th>context_precision_reason</th>\n",
       "      <th>context_recall</th>\n",
       "      <th>context_recall_reason</th>\n",
       "    </tr>\n",
       "  </thead>\n",
       "  <tbody>\n",
       "    <tr>\n",
       "      <th>0</th>\n",
       "      <td>smollm:1.7b</td>\n",
       "      <td>KG_ONLY</td>\n",
       "      <td>user1</td>\n",
       "      <td>Who is Apple's new Chief Financial Officer?</td>\n",
       "      <td>Apple Inc. has announced the appointment of Ti...</td>\n",
       "      <td>Kevan Parekh</td>\n",
       "      <td>Apple's Board of Directors appointed Kevan Par...</td>\n",
       "      <td>3.2</td>\n",
       "      <td>2419</td>\n",
       "      <td>553</td>\n",
       "      <td>1</td>\n",
       "      <td>0.0</td>\n",
       "      <td>This response inaccurately identifies Tim Cook...</td>\n",
       "      <td>Overall, the responses overwhelmingly failed t...</td>\n",
       "      <td>ScoreResult(name='levenshtein_ratio_metric', v...</td>\n",
       "      <td>None</td>\n",
       "      <td>1.0</td>\n",
       "      <td>['The OUTPUT incorrectly states that Tim Cook ...</td>\n",
       "      <td>0.2</td>\n",
       "      <td>The answer incorrectly identifies Tim Cook as ...</td>\n",
       "      <td>0.2</td>\n",
       "      <td>The response incorrectly identifies Tim Cook a...</td>\n",
       "      <td>0.0</td>\n",
       "      <td>The output identifies Tim Cook as the Chief Fi...</td>\n",
       "      <td>0.0</td>\n",
       "      <td>The response provided by the LLM incorrectly i...</td>\n",
       "    </tr>\n",
       "  </tbody>\n",
       "</table>\n",
       "</div>"
      ],
      "text/plain": [
       "         model   access   user                                     question  \\\n",
       "0  smollm:1.7b  KG_ONLY  user1  Who is Apple's new Chief Financial Officer?   \n",
       "\n",
       "                                            response        answer  \\\n",
       "0  Apple Inc. has announced the appointment of Ti...  Kevan Parekh   \n",
       "\n",
       "                                           reference  response_time  \\\n",
       "0  Apple's Board of Directors appointed Kevan Par...            3.2   \n",
       "\n",
       "   response_length  response_tokens  qid  score  \\\n",
       "0             2419              553    1    0.0   \n",
       "\n",
       "                                           reasoning  \\\n",
       "0  This response inaccurately identifies Tim Cook...   \n",
       "\n",
       "                                       meta_analysis  \\\n",
       "0  Overall, the responses overwhelmingly failed t...   \n",
       "\n",
       "                                   levenshtein_ratio levenshtein_ratio_reason  \\\n",
       "0  ScoreResult(name='levenshtein_ratio_metric', v...                     None   \n",
       "\n",
       "   hallucination_score                         hallucination_score_reason  \\\n",
       "0                  1.0  ['The OUTPUT incorrectly states that Tim Cook ...   \n",
       "\n",
       "   answer_relevance                            answer_relevance_reason  \\\n",
       "0               0.2  The answer incorrectly identifies Tim Cook as ...   \n",
       "\n",
       "   usefulness                                  usefulness_reason  \\\n",
       "0         0.2  The response incorrectly identifies Tim Cook a...   \n",
       "\n",
       "   context_precision                           context_precision_reason  \\\n",
       "0                0.0  The output identifies Tim Cook as the Chief Fi...   \n",
       "\n",
       "   context_recall                              context_recall_reason  \n",
       "0             0.0  The response provided by the LLM incorrectly i...  "
      ]
     },
     "execution_count": 14,
     "metadata": {},
     "output_type": "execute_result"
    }
   ],
   "source": [
    "pd.set_option(\"display.max_columns\", None)\n",
    "print(final_df_opik.columns)\n",
    "final_df_opik.head(1)"
   ]
  },
  {
   "cell_type": "code",
   "execution_count": 15,
   "metadata": {},
   "outputs": [
    {
     "data": {
      "application/vnd.plotly.v1+json": {
       "config": {
        "plotlyServerURL": "https://plot.ly"
       },
       "data": [
        {
         "fill": "toself",
         "name": "deepseek-r1:1.5b",
         "r": {
          "bdata": "kxgEVg4t7j+LbOf7qfHiP1CNl24Sg+A/nu+nxks3yT+JQWDl0CLLPw==",
          "dtype": "f8"
         },
         "theta": [
          "hallucination_score",
          "answer_relevance",
          "usefulness",
          "context_precision",
          "context_recall"
         ],
         "type": "scatterpolar"
        },
        {
         "fill": "toself",
         "name": "deepseek-r1:32b",
         "r": {
          "bdata": "7FG4HoXr6T/FILByaJHlPyPb+X5qvOQ/0SLb+X5qzD+mm8QgsHLQPw==",
          "dtype": "f8"
         },
         "theta": [
          "hallucination_score",
          "answer_relevance",
          "usefulness",
          "context_precision",
          "context_recall"
         ],
         "type": "scatterpolar"
        },
        {
         "fill": "toself",
         "name": "llama3.2:1b",
         "r": {
          "bdata": "7FG4HoXr7T9OYhBYObTYP+F6FK5H4do/YhBYObTIxj9zaJHtfD/FPw==",
          "dtype": "f8"
         },
         "theta": [
          "hallucination_score",
          "answer_relevance",
          "usefulness",
          "context_precision",
          "context_recall"
         ],
         "type": "scatterpolar"
        },
        {
         "fill": "toself",
         "name": "llama3.2:latest",
         "r": {
          "bdata": "MQisHFpk6z/4U+Olm8TYP4/C9Shcj9o/nu+nxks3yT9eukkMAivHPw==",
          "dtype": "f8"
         },
         "theta": [
          "hallucination_score",
          "answer_relevance",
          "usefulness",
          "context_precision",
          "context_recall"
         ],
         "type": "scatterpolar"
        },
        {
         "fill": "toself",
         "name": "mistral-small:24b",
         "r": {
          "bdata": "mG4Sg8DK7T9g5dAi2/neP76fGi/dJOI/1XjpJjEIzD9SuB6F61HIPw==",
          "dtype": "f8"
         },
         "theta": [
          "hallucination_score",
          "answer_relevance",
          "usefulness",
          "context_precision",
          "context_recall"
         ],
         "type": "scatterpolar"
        },
        {
         "fill": "toself",
         "name": "phi3.5:latest",
         "r": {
          "bdata": "Vg4tsp3v7z9QjZduEoPAP7pJDAIrh7Y/mpmZmZmZmT+amZmZmZmpPw==",
          "dtype": "f8"
         },
         "theta": [
          "hallucination_score",
          "answer_relevance",
          "usefulness",
          "context_precision",
          "context_recall"
         ],
         "type": "scatterpolar"
        },
        {
         "fill": "toself",
         "name": "phi4:latest",
         "r": {
          "bdata": "Vg4tsp3v6z/hehSuR+HiP+F6FK5H4eY/dZMYBFYOzT9g5dAi2/nOPw==",
          "dtype": "f8"
         },
         "theta": [
          "hallucination_score",
          "answer_relevance",
          "usefulness",
          "context_precision",
          "context_recall"
         ],
         "type": "scatterpolar"
        },
        {
         "fill": "toself",
         "name": "qwen2.5:0.5b",
         "r": {
          "bdata": "c2iR7Xw/7T/D9Shcj8LdPw4tsp3vp94/arx0kxgExj+uR+F6FK7HPw==",
          "dtype": "f8"
         },
         "theta": [
          "hallucination_score",
          "answer_relevance",
          "usefulness",
          "context_precision",
          "context_recall"
         ],
         "type": "scatterpolar"
        },
        {
         "fill": "toself",
         "name": "qwen2.5:1.5b",
         "r": {
          "bdata": "lkOLbOf76T8lBoGVQ4vcPxkEVg4tst0/+n5qvHSTyD9iEFg5tMjGPw==",
          "dtype": "f8"
         },
         "theta": [
          "hallucination_score",
          "answer_relevance",
          "usefulness",
          "context_precision",
          "context_recall"
         ],
         "type": "scatterpolar"
        },
        {
         "fill": "toself",
         "name": "qwen2.5:3b",
         "r": {
          "bdata": "zczMzMzM7D+oxks3iUHgP4ts5/up8eI/NV66SQwCyz/pJjEIrBzKPw==",
          "dtype": "f8"
         },
         "theta": [
          "hallucination_score",
          "answer_relevance",
          "usefulness",
          "context_precision",
          "context_recall"
         ],
         "type": "scatterpolar"
        },
        {
         "fill": "toself",
         "name": "qwen2.5:7b",
         "r": {
          "bdata": "XrpJDAIr6z8GgZVDi2zjP+XQItv5fuY/sHJoke18zz+0yHa+nxrPPw==",
          "dtype": "f8"
         },
         "theta": [
          "hallucination_score",
          "answer_relevance",
          "usefulness",
          "context_precision",
          "context_recall"
         ],
         "type": "scatterpolar"
        },
        {
         "fill": "toself",
         "name": "smollm:1.7b",
         "r": {
          "bdata": "rkfhehSu7z9qvHSTGATeP9NNYhBYOeA/eekmMQisvD+DwMqhRbbDPw==",
          "dtype": "f8"
         },
         "theta": [
          "hallucination_score",
          "answer_relevance",
          "usefulness",
          "context_precision",
          "context_recall"
         ],
         "type": "scatterpolar"
        },
        {
         "fill": "toself",
         "name": "smollm:135m",
         "r": {
          "bdata": "rkfhehSu7z97FK5H4XrUP1CNl24Sg9A/w/UoXI/CtT/sUbgehevBPw==",
          "dtype": "f8"
         },
         "theta": [
          "hallucination_score",
          "answer_relevance",
          "usefulness",
          "context_precision",
          "context_recall"
         ],
         "type": "scatterpolar"
        },
        {
         "fill": "toself",
         "name": "smollm:360m",
         "r": {
          "bdata": "rkfhehSu7z/+1HjpJjHYPwrXo3A9Ctc/w/UoXI/CtT+gGi/dJAbBPw==",
          "dtype": "f8"
         },
         "theta": [
          "hallucination_score",
          "answer_relevance",
          "usefulness",
          "context_precision",
          "context_recall"
         ],
         "type": "scatterpolar"
        }
       ],
       "layout": {
        "height": 600,
        "polar": {
         "radialaxis": {
          "range": [
           0,
           1
          ],
          "visible": true
         }
        },
        "showlegend": true,
        "template": {
         "data": {
          "bar": [
           {
            "error_x": {
             "color": "#2a3f5f"
            },
            "error_y": {
             "color": "#2a3f5f"
            },
            "marker": {
             "line": {
              "color": "#E5ECF6",
              "width": 0.5
             },
             "pattern": {
              "fillmode": "overlay",
              "size": 10,
              "solidity": 0.2
             }
            },
            "type": "bar"
           }
          ],
          "barpolar": [
           {
            "marker": {
             "line": {
              "color": "#E5ECF6",
              "width": 0.5
             },
             "pattern": {
              "fillmode": "overlay",
              "size": 10,
              "solidity": 0.2
             }
            },
            "type": "barpolar"
           }
          ],
          "carpet": [
           {
            "aaxis": {
             "endlinecolor": "#2a3f5f",
             "gridcolor": "white",
             "linecolor": "white",
             "minorgridcolor": "white",
             "startlinecolor": "#2a3f5f"
            },
            "baxis": {
             "endlinecolor": "#2a3f5f",
             "gridcolor": "white",
             "linecolor": "white",
             "minorgridcolor": "white",
             "startlinecolor": "#2a3f5f"
            },
            "type": "carpet"
           }
          ],
          "choropleth": [
           {
            "colorbar": {
             "outlinewidth": 0,
             "ticks": ""
            },
            "type": "choropleth"
           }
          ],
          "contour": [
           {
            "colorbar": {
             "outlinewidth": 0,
             "ticks": ""
            },
            "colorscale": [
             [
              0,
              "#0d0887"
             ],
             [
              0.1111111111111111,
              "#46039f"
             ],
             [
              0.2222222222222222,
              "#7201a8"
             ],
             [
              0.3333333333333333,
              "#9c179e"
             ],
             [
              0.4444444444444444,
              "#bd3786"
             ],
             [
              0.5555555555555556,
              "#d8576b"
             ],
             [
              0.6666666666666666,
              "#ed7953"
             ],
             [
              0.7777777777777778,
              "#fb9f3a"
             ],
             [
              0.8888888888888888,
              "#fdca26"
             ],
             [
              1,
              "#f0f921"
             ]
            ],
            "type": "contour"
           }
          ],
          "contourcarpet": [
           {
            "colorbar": {
             "outlinewidth": 0,
             "ticks": ""
            },
            "type": "contourcarpet"
           }
          ],
          "heatmap": [
           {
            "colorbar": {
             "outlinewidth": 0,
             "ticks": ""
            },
            "colorscale": [
             [
              0,
              "#0d0887"
             ],
             [
              0.1111111111111111,
              "#46039f"
             ],
             [
              0.2222222222222222,
              "#7201a8"
             ],
             [
              0.3333333333333333,
              "#9c179e"
             ],
             [
              0.4444444444444444,
              "#bd3786"
             ],
             [
              0.5555555555555556,
              "#d8576b"
             ],
             [
              0.6666666666666666,
              "#ed7953"
             ],
             [
              0.7777777777777778,
              "#fb9f3a"
             ],
             [
              0.8888888888888888,
              "#fdca26"
             ],
             [
              1,
              "#f0f921"
             ]
            ],
            "type": "heatmap"
           }
          ],
          "histogram": [
           {
            "marker": {
             "pattern": {
              "fillmode": "overlay",
              "size": 10,
              "solidity": 0.2
             }
            },
            "type": "histogram"
           }
          ],
          "histogram2d": [
           {
            "colorbar": {
             "outlinewidth": 0,
             "ticks": ""
            },
            "colorscale": [
             [
              0,
              "#0d0887"
             ],
             [
              0.1111111111111111,
              "#46039f"
             ],
             [
              0.2222222222222222,
              "#7201a8"
             ],
             [
              0.3333333333333333,
              "#9c179e"
             ],
             [
              0.4444444444444444,
              "#bd3786"
             ],
             [
              0.5555555555555556,
              "#d8576b"
             ],
             [
              0.6666666666666666,
              "#ed7953"
             ],
             [
              0.7777777777777778,
              "#fb9f3a"
             ],
             [
              0.8888888888888888,
              "#fdca26"
             ],
             [
              1,
              "#f0f921"
             ]
            ],
            "type": "histogram2d"
           }
          ],
          "histogram2dcontour": [
           {
            "colorbar": {
             "outlinewidth": 0,
             "ticks": ""
            },
            "colorscale": [
             [
              0,
              "#0d0887"
             ],
             [
              0.1111111111111111,
              "#46039f"
             ],
             [
              0.2222222222222222,
              "#7201a8"
             ],
             [
              0.3333333333333333,
              "#9c179e"
             ],
             [
              0.4444444444444444,
              "#bd3786"
             ],
             [
              0.5555555555555556,
              "#d8576b"
             ],
             [
              0.6666666666666666,
              "#ed7953"
             ],
             [
              0.7777777777777778,
              "#fb9f3a"
             ],
             [
              0.8888888888888888,
              "#fdca26"
             ],
             [
              1,
              "#f0f921"
             ]
            ],
            "type": "histogram2dcontour"
           }
          ],
          "mesh3d": [
           {
            "colorbar": {
             "outlinewidth": 0,
             "ticks": ""
            },
            "type": "mesh3d"
           }
          ],
          "parcoords": [
           {
            "line": {
             "colorbar": {
              "outlinewidth": 0,
              "ticks": ""
             }
            },
            "type": "parcoords"
           }
          ],
          "pie": [
           {
            "automargin": true,
            "type": "pie"
           }
          ],
          "scatter": [
           {
            "fillpattern": {
             "fillmode": "overlay",
             "size": 10,
             "solidity": 0.2
            },
            "type": "scatter"
           }
          ],
          "scatter3d": [
           {
            "line": {
             "colorbar": {
              "outlinewidth": 0,
              "ticks": ""
             }
            },
            "marker": {
             "colorbar": {
              "outlinewidth": 0,
              "ticks": ""
             }
            },
            "type": "scatter3d"
           }
          ],
          "scattercarpet": [
           {
            "marker": {
             "colorbar": {
              "outlinewidth": 0,
              "ticks": ""
             }
            },
            "type": "scattercarpet"
           }
          ],
          "scattergeo": [
           {
            "marker": {
             "colorbar": {
              "outlinewidth": 0,
              "ticks": ""
             }
            },
            "type": "scattergeo"
           }
          ],
          "scattergl": [
           {
            "marker": {
             "colorbar": {
              "outlinewidth": 0,
              "ticks": ""
             }
            },
            "type": "scattergl"
           }
          ],
          "scattermap": [
           {
            "marker": {
             "colorbar": {
              "outlinewidth": 0,
              "ticks": ""
             }
            },
            "type": "scattermap"
           }
          ],
          "scattermapbox": [
           {
            "marker": {
             "colorbar": {
              "outlinewidth": 0,
              "ticks": ""
             }
            },
            "type": "scattermapbox"
           }
          ],
          "scatterpolar": [
           {
            "marker": {
             "colorbar": {
              "outlinewidth": 0,
              "ticks": ""
             }
            },
            "type": "scatterpolar"
           }
          ],
          "scatterpolargl": [
           {
            "marker": {
             "colorbar": {
              "outlinewidth": 0,
              "ticks": ""
             }
            },
            "type": "scatterpolargl"
           }
          ],
          "scatterternary": [
           {
            "marker": {
             "colorbar": {
              "outlinewidth": 0,
              "ticks": ""
             }
            },
            "type": "scatterternary"
           }
          ],
          "surface": [
           {
            "colorbar": {
             "outlinewidth": 0,
             "ticks": ""
            },
            "colorscale": [
             [
              0,
              "#0d0887"
             ],
             [
              0.1111111111111111,
              "#46039f"
             ],
             [
              0.2222222222222222,
              "#7201a8"
             ],
             [
              0.3333333333333333,
              "#9c179e"
             ],
             [
              0.4444444444444444,
              "#bd3786"
             ],
             [
              0.5555555555555556,
              "#d8576b"
             ],
             [
              0.6666666666666666,
              "#ed7953"
             ],
             [
              0.7777777777777778,
              "#fb9f3a"
             ],
             [
              0.8888888888888888,
              "#fdca26"
             ],
             [
              1,
              "#f0f921"
             ]
            ],
            "type": "surface"
           }
          ],
          "table": [
           {
            "cells": {
             "fill": {
              "color": "#EBF0F8"
             },
             "line": {
              "color": "white"
             }
            },
            "header": {
             "fill": {
              "color": "#C8D4E3"
             },
             "line": {
              "color": "white"
             }
            },
            "type": "table"
           }
          ]
         },
         "layout": {
          "annotationdefaults": {
           "arrowcolor": "#2a3f5f",
           "arrowhead": 0,
           "arrowwidth": 1
          },
          "autotypenumbers": "strict",
          "coloraxis": {
           "colorbar": {
            "outlinewidth": 0,
            "ticks": ""
           }
          },
          "colorscale": {
           "diverging": [
            [
             0,
             "#8e0152"
            ],
            [
             0.1,
             "#c51b7d"
            ],
            [
             0.2,
             "#de77ae"
            ],
            [
             0.3,
             "#f1b6da"
            ],
            [
             0.4,
             "#fde0ef"
            ],
            [
             0.5,
             "#f7f7f7"
            ],
            [
             0.6,
             "#e6f5d0"
            ],
            [
             0.7,
             "#b8e186"
            ],
            [
             0.8,
             "#7fbc41"
            ],
            [
             0.9,
             "#4d9221"
            ],
            [
             1,
             "#276419"
            ]
           ],
           "sequential": [
            [
             0,
             "#0d0887"
            ],
            [
             0.1111111111111111,
             "#46039f"
            ],
            [
             0.2222222222222222,
             "#7201a8"
            ],
            [
             0.3333333333333333,
             "#9c179e"
            ],
            [
             0.4444444444444444,
             "#bd3786"
            ],
            [
             0.5555555555555556,
             "#d8576b"
            ],
            [
             0.6666666666666666,
             "#ed7953"
            ],
            [
             0.7777777777777778,
             "#fb9f3a"
            ],
            [
             0.8888888888888888,
             "#fdca26"
            ],
            [
             1,
             "#f0f921"
            ]
           ],
           "sequentialminus": [
            [
             0,
             "#0d0887"
            ],
            [
             0.1111111111111111,
             "#46039f"
            ],
            [
             0.2222222222222222,
             "#7201a8"
            ],
            [
             0.3333333333333333,
             "#9c179e"
            ],
            [
             0.4444444444444444,
             "#bd3786"
            ],
            [
             0.5555555555555556,
             "#d8576b"
            ],
            [
             0.6666666666666666,
             "#ed7953"
            ],
            [
             0.7777777777777778,
             "#fb9f3a"
            ],
            [
             0.8888888888888888,
             "#fdca26"
            ],
            [
             1,
             "#f0f921"
            ]
           ]
          },
          "colorway": [
           "#636efa",
           "#EF553B",
           "#00cc96",
           "#ab63fa",
           "#FFA15A",
           "#19d3f3",
           "#FF6692",
           "#B6E880",
           "#FF97FF",
           "#FECB52"
          ],
          "font": {
           "color": "#2a3f5f"
          },
          "geo": {
           "bgcolor": "white",
           "lakecolor": "white",
           "landcolor": "#E5ECF6",
           "showlakes": true,
           "showland": true,
           "subunitcolor": "white"
          },
          "hoverlabel": {
           "align": "left"
          },
          "hovermode": "closest",
          "mapbox": {
           "style": "light"
          },
          "paper_bgcolor": "white",
          "plot_bgcolor": "#E5ECF6",
          "polar": {
           "angularaxis": {
            "gridcolor": "white",
            "linecolor": "white",
            "ticks": ""
           },
           "bgcolor": "#E5ECF6",
           "radialaxis": {
            "gridcolor": "white",
            "linecolor": "white",
            "ticks": ""
           }
          },
          "scene": {
           "xaxis": {
            "backgroundcolor": "#E5ECF6",
            "gridcolor": "white",
            "gridwidth": 2,
            "linecolor": "white",
            "showbackground": true,
            "ticks": "",
            "zerolinecolor": "white"
           },
           "yaxis": {
            "backgroundcolor": "#E5ECF6",
            "gridcolor": "white",
            "gridwidth": 2,
            "linecolor": "white",
            "showbackground": true,
            "ticks": "",
            "zerolinecolor": "white"
           },
           "zaxis": {
            "backgroundcolor": "#E5ECF6",
            "gridcolor": "white",
            "gridwidth": 2,
            "linecolor": "white",
            "showbackground": true,
            "ticks": "",
            "zerolinecolor": "white"
           }
          },
          "shapedefaults": {
           "line": {
            "color": "#2a3f5f"
           }
          },
          "ternary": {
           "aaxis": {
            "gridcolor": "white",
            "linecolor": "white",
            "ticks": ""
           },
           "baxis": {
            "gridcolor": "white",
            "linecolor": "white",
            "ticks": ""
           },
           "bgcolor": "#E5ECF6",
           "caxis": {
            "gridcolor": "white",
            "linecolor": "white",
            "ticks": ""
           }
          },
          "title": {
           "x": 0.05
          },
          "xaxis": {
           "automargin": true,
           "gridcolor": "white",
           "linecolor": "white",
           "ticks": "",
           "title": {
            "standoff": 15
           },
           "zerolinecolor": "white",
           "zerolinewidth": 2
          },
          "yaxis": {
           "automargin": true,
           "gridcolor": "white",
           "linecolor": "white",
           "ticks": "",
           "title": {
            "standoff": 15
           },
           "zerolinecolor": "white",
           "zerolinewidth": 2
          }
         }
        },
        "title": {
         "text": "Model Performance Across Evaluation Metrics"
        },
        "width": 800
       }
      }
     },
     "metadata": {},
     "output_type": "display_data"
    }
   ],
   "source": [
    "# Calculate mean scores for each model\n",
    "metrics_to_plot = ['hallucination_score', 'answer_relevance', 'usefulness', \n",
    "                  'context_precision', 'context_recall']\n",
    "\n",
    "# Group by model and calculate means\n",
    "model_metrics = final_df_opik.groupby('model')[metrics_to_plot].mean().round(3)\n",
    "\n",
    "# Create radar chart using Plotly\n",
    "import plotly.graph_objects as go\n",
    "\n",
    "# Create figure\n",
    "fig = go.Figure()\n",
    "\n",
    "# Add traces for each model\n",
    "for model in model_metrics.index:\n",
    "    fig.add_trace(go.Scatterpolar(\n",
    "        r=model_metrics.loc[model],\n",
    "        theta=metrics_to_plot,\n",
    "        name=model,\n",
    "        fill='toself'\n",
    "    ))\n",
    "\n",
    "# Update layout\n",
    "fig.update_layout(\n",
    "    polar=dict(\n",
    "        radialaxis=dict(\n",
    "            visible=True,\n",
    "            range=[0, 1]  # Scores are between 0 and 1\n",
    "        )),\n",
    "    showlegend=True,\n",
    "    title=\"Model Performance Across Evaluation Metrics\",\n",
    "    width=800,\n",
    "    height=600\n",
    ")\n",
    "\n",
    "# Show the plot\n",
    "fig.show()\n",
    "\n",
    "# Save the plot\n",
    "# fig.write_html(\"./results/model_performance_radar.html\")"
   ]
  },
  {
   "cell_type": "code",
   "execution_count": null,
   "metadata": {},
   "outputs": [],
   "source": [
    "import plotly.express as px\n",
    "import pandas as pd\n",
    "df = pd.DataFrame(dict(\n",
    "    r=[1, 5, 2, 2, 3],\n",
    "    theta=['processing cost','mechanical properties','chemical stability',\n",
    "           'thermal stability', 'device integration']))\n",
    "fig = px.line_polar(df, r='r', theta='theta', line_close=True)\n",
    "fig.show()"
   ]
  },
  {
   "cell_type": "code",
   "execution_count": null,
   "metadata": {},
   "outputs": [],
   "source": [
    "palette = config_seaborn()\n",
    "\n",
    "# Create figure\n",
    "plt.figure(figsize=(25, 10))\n",
    "\n",
    "# Create grouped bar plot\n",
    "ax = sns.barplot(\n",
    "    data=final_df_opik,\n",
    "    x='model',\n",
    "    y='score',\n",
    "    hue='access',\n",
    "    palette=palette\n",
    ")\n",
    "\n",
    "# Customize plot\n",
    "# plt.title('Statistical Measures Across Embedding Models', pad=20, size=14)\n",
    "plt.xlabel('LLM Model', size=25)\n",
    "plt.ylabel('Score (0-10)', size=25)\n",
    "\n",
    "# Rotate x-axis labels\n",
    "plt.xticks(rotation=15, fontsize=22)\n",
    "plt.yticks(fontsize=22)\n",
    "\n",
    "# Adjust legend\n",
    "plt.legend(\n",
    "    title='IoU',\n",
    "    bbox_to_anchor=(0.5, 1.05),\n",
    "    loc='center',\n",
    "    ncol=4,\n",
    "    frameon=True,\n",
    "    fontsize=24,\n",
    "    title_fontsize=28\n",
    ")\n",
    "\n",
    "# Add grid for better readability\n",
    "plt.grid(True, axis='y', linestyle='--', alpha=0.7)\n",
    "\n",
    "# Adjust layout\n",
    "plt.tight_layout()\n",
    "\n",
    "# plt.savefig('./plots/model_performance.png', dpi=300)\n",
    "# Show plot\n",
    "plt.show()"
   ]
  },
  {
   "cell_type": "markdown",
   "metadata": {},
   "source": [
    "# Embeddings"
   ]
  },
  {
   "cell_type": "code",
   "execution_count": 194,
   "metadata": {},
   "outputs": [
    {
     "name": "stdout",
     "output_type": "stream",
     "text": [
      "\n",
      "DataFrame Shape: (400, 386)\n"
     ]
    },
    {
     "data": {
      "text/html": [
       "<div>\n",
       "<style scoped>\n",
       "    .dataframe tbody tr th:only-of-type {\n",
       "        vertical-align: middle;\n",
       "    }\n",
       "\n",
       "    .dataframe tbody tr th {\n",
       "        vertical-align: top;\n",
       "    }\n",
       "\n",
       "    .dataframe thead th {\n",
       "        text-align: right;\n",
       "    }\n",
       "</style>\n",
       "<table border=\"1\" class=\"dataframe\">\n",
       "  <thead>\n",
       "    <tr style=\"text-align: right;\">\n",
       "      <th></th>\n",
       "      <th>model</th>\n",
       "      <th>filename</th>\n",
       "      <th>dim_0</th>\n",
       "      <th>dim_1</th>\n",
       "      <th>dim_2</th>\n",
       "      <th>dim_3</th>\n",
       "      <th>dim_4</th>\n",
       "      <th>dim_5</th>\n",
       "      <th>dim_6</th>\n",
       "      <th>dim_7</th>\n",
       "      <th>...</th>\n",
       "      <th>dim_374</th>\n",
       "      <th>dim_375</th>\n",
       "      <th>dim_376</th>\n",
       "      <th>dim_377</th>\n",
       "      <th>dim_378</th>\n",
       "      <th>dim_379</th>\n",
       "      <th>dim_380</th>\n",
       "      <th>dim_381</th>\n",
       "      <th>dim_382</th>\n",
       "      <th>dim_383</th>\n",
       "    </tr>\n",
       "  </thead>\n",
       "  <tbody>\n",
       "    <tr>\n",
       "      <th>0</th>\n",
       "      <td>qwen2.5_7b</td>\n",
       "      <td>CHUNKS_admin_0_1.txt</td>\n",
       "      <td>-0.075566</td>\n",
       "      <td>0.119131</td>\n",
       "      <td>-0.036106</td>\n",
       "      <td>-0.095838</td>\n",
       "      <td>-0.049041</td>\n",
       "      <td>0.003664</td>\n",
       "      <td>-0.127176</td>\n",
       "      <td>0.092244</td>\n",
       "      <td>...</td>\n",
       "      <td>-0.113079</td>\n",
       "      <td>0.008026</td>\n",
       "      <td>0.111015</td>\n",
       "      <td>-0.082428</td>\n",
       "      <td>0.148435</td>\n",
       "      <td>-0.000946</td>\n",
       "      <td>0.015064</td>\n",
       "      <td>0.055559</td>\n",
       "      <td>-0.129441</td>\n",
       "      <td>0.107625</td>\n",
       "    </tr>\n",
       "    <tr>\n",
       "      <th>1</th>\n",
       "      <td>qwen2.5_7b</td>\n",
       "      <td>CHUNKS_admin_1_1.txt</td>\n",
       "      <td>-0.008544</td>\n",
       "      <td>-0.101055</td>\n",
       "      <td>-0.130910</td>\n",
       "      <td>-0.054039</td>\n",
       "      <td>0.110466</td>\n",
       "      <td>-0.068998</td>\n",
       "      <td>-0.068796</td>\n",
       "      <td>0.039880</td>\n",
       "      <td>...</td>\n",
       "      <td>0.184230</td>\n",
       "      <td>0.196043</td>\n",
       "      <td>0.064503</td>\n",
       "      <td>-0.083653</td>\n",
       "      <td>-0.010190</td>\n",
       "      <td>0.024736</td>\n",
       "      <td>0.163483</td>\n",
       "      <td>0.089139</td>\n",
       "      <td>-0.094404</td>\n",
       "      <td>-0.092834</td>\n",
       "    </tr>\n",
       "    <tr>\n",
       "      <th>2</th>\n",
       "      <td>qwen2.5_7b</td>\n",
       "      <td>CHUNKS_admin_2_1.txt</td>\n",
       "      <td>0.025271</td>\n",
       "      <td>-0.199228</td>\n",
       "      <td>0.005019</td>\n",
       "      <td>0.219409</td>\n",
       "      <td>0.082700</td>\n",
       "      <td>-0.117323</td>\n",
       "      <td>-0.105174</td>\n",
       "      <td>0.076461</td>\n",
       "      <td>...</td>\n",
       "      <td>0.116590</td>\n",
       "      <td>0.017078</td>\n",
       "      <td>-0.158439</td>\n",
       "      <td>-0.036856</td>\n",
       "      <td>-0.027145</td>\n",
       "      <td>0.094577</td>\n",
       "      <td>-0.118003</td>\n",
       "      <td>-0.053782</td>\n",
       "      <td>-0.151496</td>\n",
       "      <td>0.009665</td>\n",
       "    </tr>\n",
       "    <tr>\n",
       "      <th>3</th>\n",
       "      <td>qwen2.5_7b</td>\n",
       "      <td>CHUNKS_admin_3_1.txt</td>\n",
       "      <td>0.070269</td>\n",
       "      <td>0.026260</td>\n",
       "      <td>-0.095843</td>\n",
       "      <td>0.056919</td>\n",
       "      <td>0.190134</td>\n",
       "      <td>-0.027714</td>\n",
       "      <td>-0.125104</td>\n",
       "      <td>0.045174</td>\n",
       "      <td>...</td>\n",
       "      <td>0.095337</td>\n",
       "      <td>0.170429</td>\n",
       "      <td>0.162762</td>\n",
       "      <td>-0.050768</td>\n",
       "      <td>-0.128579</td>\n",
       "      <td>0.012660</td>\n",
       "      <td>-0.079618</td>\n",
       "      <td>0.123970</td>\n",
       "      <td>-0.122808</td>\n",
       "      <td>-0.058790</td>\n",
       "    </tr>\n",
       "    <tr>\n",
       "      <th>4</th>\n",
       "      <td>qwen2.5_7b</td>\n",
       "      <td>CHUNKS_admin_4_1.txt</td>\n",
       "      <td>0.073119</td>\n",
       "      <td>-0.056663</td>\n",
       "      <td>-0.111264</td>\n",
       "      <td>-0.087591</td>\n",
       "      <td>0.004742</td>\n",
       "      <td>-0.318034</td>\n",
       "      <td>-0.320232</td>\n",
       "      <td>-0.027044</td>\n",
       "      <td>...</td>\n",
       "      <td>0.121301</td>\n",
       "      <td>0.161043</td>\n",
       "      <td>-0.056585</td>\n",
       "      <td>0.054711</td>\n",
       "      <td>0.090903</td>\n",
       "      <td>0.069179</td>\n",
       "      <td>0.044614</td>\n",
       "      <td>-0.135994</td>\n",
       "      <td>0.010154</td>\n",
       "      <td>-0.005580</td>\n",
       "    </tr>\n",
       "  </tbody>\n",
       "</table>\n",
       "<p>5 rows × 386 columns</p>\n",
       "</div>"
      ],
      "text/plain": [
       "        model              filename     dim_0     dim_1     dim_2     dim_3  \\\n",
       "0  qwen2.5_7b  CHUNKS_admin_0_1.txt -0.075566  0.119131 -0.036106 -0.095838   \n",
       "1  qwen2.5_7b  CHUNKS_admin_1_1.txt -0.008544 -0.101055 -0.130910 -0.054039   \n",
       "2  qwen2.5_7b  CHUNKS_admin_2_1.txt  0.025271 -0.199228  0.005019  0.219409   \n",
       "3  qwen2.5_7b  CHUNKS_admin_3_1.txt  0.070269  0.026260 -0.095843  0.056919   \n",
       "4  qwen2.5_7b  CHUNKS_admin_4_1.txt  0.073119 -0.056663 -0.111264 -0.087591   \n",
       "\n",
       "      dim_4     dim_5     dim_6     dim_7  ...   dim_374   dim_375   dim_376  \\\n",
       "0 -0.049041  0.003664 -0.127176  0.092244  ... -0.113079  0.008026  0.111015   \n",
       "1  0.110466 -0.068998 -0.068796  0.039880  ...  0.184230  0.196043  0.064503   \n",
       "2  0.082700 -0.117323 -0.105174  0.076461  ...  0.116590  0.017078 -0.158439   \n",
       "3  0.190134 -0.027714 -0.125104  0.045174  ...  0.095337  0.170429  0.162762   \n",
       "4  0.004742 -0.318034 -0.320232 -0.027044  ...  0.121301  0.161043 -0.056585   \n",
       "\n",
       "    dim_377   dim_378   dim_379   dim_380   dim_381   dim_382   dim_383  \n",
       "0 -0.082428  0.148435 -0.000946  0.015064  0.055559 -0.129441  0.107625  \n",
       "1 -0.083653 -0.010190  0.024736  0.163483  0.089139 -0.094404 -0.092834  \n",
       "2 -0.036856 -0.027145  0.094577 -0.118003 -0.053782 -0.151496  0.009665  \n",
       "3 -0.050768 -0.128579  0.012660 -0.079618  0.123970 -0.122808 -0.058790  \n",
       "4  0.054711  0.090903  0.069179  0.044614 -0.135994  0.010154 -0.005580  \n",
       "\n",
       "[5 rows x 386 columns]"
      ]
     },
     "execution_count": 194,
     "metadata": {},
     "output_type": "execute_result"
    }
   ],
   "source": [
    "import ollama\n",
    "import numpy as np\n",
    "\n",
    "def get_embeddings(text: str) -> List[float]:\n",
    "    \"\"\"\n",
    "    Get embeddings for text using ollama's all-minilm model.\n",
    "    \n",
    "    Args:\n",
    "        text: Text to embed\n",
    "        \n",
    "    Returns:\n",
    "        List[float]: Embedding vector\n",
    "    \"\"\"\n",
    "    response = ollama.embeddings(\n",
    "        model='all-minilm:33m',\n",
    "        prompt=text\n",
    "    )\n",
    "    return response['embedding']\n",
    "\n",
    "def create_embeddings_dataframe() -> pd.DataFrame:\n",
    "    \"\"\"\n",
    "    Create a DataFrame containing embeddings for all LLM responses along with metadata.\n",
    "    \n",
    "    Returns:\n",
    "        pd.DataFrame: DataFrame with columns for model name, filename, and embedding values\n",
    "    \"\"\"\n",
    "    # Get file structure\n",
    "    output_structure = get_llm_output_structure()\n",
    "    \n",
    "    # Lists to store data\n",
    "    data = []\n",
    "    \n",
    "    # Process each file\n",
    "    for model_name, files in output_structure.items():\n",
    "        for file_name in files:\n",
    "            try:\n",
    "                # Read content\n",
    "                content = read_llm_response(file_name)\n",
    "                \n",
    "                # Get embeddings\n",
    "                embedding = get_embeddings(content)\n",
    "                \n",
    "                # Store data\n",
    "                data.append({\n",
    "                    'model': model_name,\n",
    "                    'filename': file_name.split('/')[-1],  # Just the filename without path\n",
    "                    'embedding': embedding\n",
    "                })\n",
    "                \n",
    "            except Exception as e:\n",
    "                print(f\"Error processing {file_name}: {str(e)}\")\n",
    "    \n",
    "    # Create DataFrame\n",
    "    df = pd.DataFrame(data)\n",
    "    \n",
    "    # Expand embedding column into separate columns\n",
    "    embedding_df = pd.DataFrame(df['embedding'].tolist(), \n",
    "                              columns=[f'dim_{i}' for i in range(len(df['embedding'].iloc[0]))])\n",
    "    \n",
    "    # Combine metadata with embeddings\n",
    "    result_df = pd.concat([\n",
    "        df[['model', 'filename']],\n",
    "        embedding_df\n",
    "    ], axis=1)\n",
    "    \n",
    "    return result_df\n",
    "\n",
    "# Create and display the DataFrame\n",
    "embeddings_df = create_embeddings_dataframe()\n",
    "print(\"\\nDataFrame Shape:\", embeddings_df.shape)\n",
    "# print(\"\\nFirst few rows:\")\n",
    "# print(embeddings_df.head())\n",
    "\n",
    "# Optionally save to parquet for later use\n",
    "embeddings_df.to_parquet('./results/response_embeddings.parquet')\n",
    "embeddings_df.head()"
   ]
  },
  {
   "cell_type": "markdown",
   "metadata": {},
   "source": [
    "# Visualization"
   ]
  },
  {
   "cell_type": "code",
   "execution_count": 195,
   "metadata": {},
   "outputs": [],
   "source": [
    "import plotly.express as px\n",
    "from sklearn.decomposition import PCA\n",
    "from sklearn.manifold import TSNE\n",
    "import plotly.graph_objects as go\n",
    "\n",
    "def create_reduced_dim_plots(df: pd.DataFrame, method: str = 'pca', n_components: int = 2) -> go.Figure:\n",
    "    \"\"\"\n",
    "    Create dimensionality reduction plots using either PCA or t-SNE.\n",
    "    \n",
    "    Args:\n",
    "        df: DataFrame containing embeddings and metadata\n",
    "        method: Reduction method ('pca' or 'tsne')\n",
    "        n_components: Number of components for reduction\n",
    "        \n",
    "    Returns:\n",
    "        go.Figure: Interactive plotly figure\n",
    "    \"\"\"\n",
    "    # Get embedding columns\n",
    "    embedding_cols = [col for col in df.columns if col.startswith('dim_')]\n",
    "    \n",
    "    # Perform dimensionality reduction\n",
    "    if method == 'pca':\n",
    "        reducer = PCA(n_components=n_components)\n",
    "        reduced_data = reducer.fit_transform(df[embedding_cols])\n",
    "        explained_var = reducer.explained_variance_ratio_\n",
    "        title = f'PCA Visualization (Explained variance: {sum(explained_var):.2%})'\n",
    "    else:  # t-SNE\n",
    "        reducer = TSNE(n_components=n_components, random_state=42)\n",
    "        reduced_data = reducer.fit_transform(df[embedding_cols])\n",
    "        title = 'T-SNE Visualization'\n",
    "    \n",
    "    # Create DataFrame with reduced dimensions\n",
    "    plot_df = pd.DataFrame(\n",
    "        reduced_data,\n",
    "        columns=[f'Component_{i+1}' for i in range(n_components)]\n",
    "    )\n",
    "    \n",
    "    # Add metadata\n",
    "    plot_df['model'] = df['model']\n",
    "    plot_df['filename'] = df['filename']\n",
    "    \n",
    "    # Extract type from filename (CHUNKS, DOCUMENT_LEVEL, etc.)\n",
    "    plot_df['response_type'] = plot_df['filename'].apply(lambda x: x.split('_')[0])\n",
    "    \n",
    "    # Create hover text\n",
    "    plot_df['hover_text'] = plot_df.apply(\n",
    "        lambda row: f\"Model: {row['model']}<br>File: {row['filename']}<br>Type: {row['response_type']}\", \n",
    "        axis=1\n",
    "    )\n",
    "    \n",
    "    # Create figure\n",
    "    fig = px.scatter(\n",
    "        plot_df,\n",
    "        x='Component_1',\n",
    "        y='Component_2',\n",
    "        color='model',\n",
    "        symbol='response_type',\n",
    "        hover_data=['filename'],\n",
    "        title=title,\n",
    "        labels={\n",
    "            'Component_1': f'{method.upper()} Component 1',\n",
    "            'Component_2': f'{method.upper()} Component 2'\n",
    "        }\n",
    "    )\n",
    "    \n",
    "    # Update layout\n",
    "    fig.update_layout(\n",
    "        height=800,\n",
    "        width=1200,\n",
    "        template='plotly_white',\n",
    "        legend=dict(\n",
    "            yanchor=\"top\",\n",
    "            y=0.99,\n",
    "            xanchor=\"left\",\n",
    "            x=0.01\n",
    "        )\n",
    "    )\n",
    "    \n",
    "    return fig"
   ]
  },
  {
   "cell_type": "code",
   "execution_count": 196,
   "metadata": {},
   "outputs": [],
   "source": [
    "# Create both visualizations\n",
    "pca_fig = create_reduced_dim_plots(embeddings_df, method='pca')\n",
    "tsne_fig = create_reduced_dim_plots(embeddings_df, method='tsne')\n",
    "\n",
    "# Display figures\n",
    "# pca_fig.show()\n",
    "# tsne_fig.show()\n",
    "\n",
    "# Optionally save the figures\n",
    "pca_fig.write_html(\"./results/pca_visualization.html\")\n",
    "tsne_fig.write_html(\"./results/tsne_visualization.html\")"
   ]
  },
  {
   "cell_type": "markdown",
   "metadata": {},
   "source": [
    "## Response depended"
   ]
  },
  {
   "cell_type": "code",
   "execution_count": 197,
   "metadata": {},
   "outputs": [],
   "source": [
    "def create_reduced_dim_plots_by_type(df: pd.DataFrame, method: str = 'pca', n_components: int = 2) -> Dict[str, go.Figure]:\n",
    "    \"\"\"\n",
    "    Create separate dimensionality reduction plots for each response type.\n",
    "    \n",
    "    Args:\n",
    "        df: DataFrame containing embeddings and metadata\n",
    "        method: Reduction method ('pca' or 'tsne')\n",
    "        n_components: Number of components for reduction\n",
    "        \n",
    "    Returns:\n",
    "        Dict[str, go.Figure]: Dictionary mapping response types to their figures\n",
    "    \"\"\"\n",
    "    # Get embedding columns\n",
    "    embedding_cols = [col for col in df.columns if col.startswith('dim_')]\n",
    "    \n",
    "    # Perform dimensionality reduction\n",
    "    if method == 'pca':\n",
    "        reducer = PCA(n_components=n_components)\n",
    "        reduced_data = reducer.fit_transform(df[embedding_cols])\n",
    "        explained_var = reducer.explained_variance_ratio_\n",
    "        title_prefix = f'PCA Visualization (Explained variance: {sum(explained_var):.2%})'\n",
    "    else:  # t-SNE\n",
    "        reducer = TSNE(n_components=n_components, random_state=42)\n",
    "        reduced_data = reducer.fit_transform(df[embedding_cols])\n",
    "        title_prefix = 'T-SNE Visualization'\n",
    "    \n",
    "    # Create DataFrame with reduced dimensions\n",
    "    plot_df = pd.DataFrame(\n",
    "        reduced_data,\n",
    "        columns=[f'Component_{i+1}' for i in range(n_components)]\n",
    "    )\n",
    "    \n",
    "    # Add metadata\n",
    "    plot_df['model'] = df['model']\n",
    "    plot_df['filename'] = df['filename']\n",
    "    plot_df['response_type'] = df['filename'].apply(lambda x: x.split('_')[0])\n",
    "    \n",
    "    # Create hover text\n",
    "    plot_df['hover_text'] = plot_df.apply(\n",
    "        lambda row: f\"Model: {row['model']}<br>File: {row['filename']}\", \n",
    "        axis=1\n",
    "    )\n",
    "    \n",
    "    # Create separate figures for each response type\n",
    "    figures = {}\n",
    "    for response_type in plot_df['response_type'].unique():\n",
    "        type_df = plot_df[plot_df['response_type'] == response_type]\n",
    "        \n",
    "        fig = px.scatter(\n",
    "            type_df,\n",
    "            x='Component_1',\n",
    "            y='Component_2',\n",
    "            color='model',\n",
    "            hover_data=['filename'],\n",
    "            title=f\"{title_prefix} - {response_type}\",\n",
    "            labels={\n",
    "                'Component_1': f'{method.upper()} Component 1',\n",
    "                'Component_2': f'{method.upper()} Component 2'\n",
    "            }\n",
    "        )\n",
    "        \n",
    "        # Update layout\n",
    "        fig.update_layout(\n",
    "            height=600,\n",
    "            width=800,\n",
    "            template='plotly_white',\n",
    "            legend=dict(\n",
    "                yanchor=\"top\",\n",
    "                y=0.99,\n",
    "                xanchor=\"left\",\n",
    "                x=0.01\n",
    "            )\n",
    "        )\n",
    "        \n",
    "        figures[response_type] = fig\n",
    "    \n",
    "    return figures\n",
    "\n",
    "# Create visualizations for both PCA and t-SNE\n",
    "pca_figs = create_reduced_dim_plots_by_type(embeddings_df, method='pca')\n",
    "tsne_figs = create_reduced_dim_plots_by_type(embeddings_df, method='tsne')"
   ]
  },
  {
   "cell_type": "code",
   "execution_count": 198,
   "metadata": {},
   "outputs": [],
   "source": [
    "# Display all figures\n",
    "# print(\"\\nPCA Visualizations:\")\n",
    "# for response_type, fig in pca_figs.items():\n",
    "#     print(f\"\\n{response_type}:\")\n",
    "#     fig.show()\n",
    "    \n",
    "# print(\"\\nT-SNE Visualizations:\")\n",
    "# for response_type, fig in tsne_figs.items():\n",
    "#     print(f\"\\n{response_type}:\")\n",
    "#     fig.show()\n",
    "\n",
    "# Save all figures\n",
    "for response_type, fig in pca_figs.items():\n",
    "    fig.write_html(f\"./results/pca_visualization_{response_type.lower()}.html\")\n",
    "    \n",
    "for response_type, fig in tsne_figs.items():\n",
    "    fig.write_html(f\"./results/tsne_visualization_{response_type.lower()}.html\")"
   ]
  },
  {
   "cell_type": "markdown",
   "metadata": {},
   "source": [
    "## Similarity"
   ]
  },
  {
   "cell_type": "code",
   "execution_count": 199,
   "metadata": {},
   "outputs": [
    {
     "name": "stdout",
     "output_type": "stream",
     "text": [
      "\n",
      "Similarity Matrix Shape: (400, 400)\n",
      "\n",
      "Top 20 Most Similar Pairs:\n"
     ]
    },
    {
     "data": {
      "text/html": [
       "<div>\n",
       "<style scoped>\n",
       "    .dataframe tbody tr th:only-of-type {\n",
       "        vertical-align: middle;\n",
       "    }\n",
       "\n",
       "    .dataframe tbody tr th {\n",
       "        vertical-align: top;\n",
       "    }\n",
       "\n",
       "    .dataframe thead th {\n",
       "        text-align: right;\n",
       "    }\n",
       "</style>\n",
       "<table border=\"1\" class=\"dataframe\">\n",
       "  <thead>\n",
       "    <tr style=\"text-align: right;\">\n",
       "      <th></th>\n",
       "      <th>response1</th>\n",
       "      <th>response2</th>\n",
       "      <th>similarity</th>\n",
       "    </tr>\n",
       "  </thead>\n",
       "  <tbody>\n",
       "    <tr>\n",
       "      <th>77918</th>\n",
       "      <td>deepseek-r1_32b - CHUNKS_user1_8_1.txt</td>\n",
       "      <td>deepseek-r1_32b - DOCUMENT_LEVEL_admin_8_1.txt</td>\n",
       "      <td>1.0</td>\n",
       "    </tr>\n",
       "    <tr>\n",
       "      <th>77938</th>\n",
       "      <td>deepseek-r1_32b - CHUNKS_user1_8_1.txt</td>\n",
       "      <td>deepseek-r1_32b - FULL_admin_8_1.txt</td>\n",
       "      <td>1.0</td>\n",
       "    </tr>\n",
       "    <tr>\n",
       "      <th>77958</th>\n",
       "      <td>deepseek-r1_32b - CHUNKS_user1_8_1.txt</td>\n",
       "      <td>deepseek-r1_32b - KG_ONLY_admin_8_1.txt</td>\n",
       "      <td>1.0</td>\n",
       "    </tr>\n",
       "    <tr>\n",
       "      <th>78493</th>\n",
       "      <td>deepseek-r1_32b - DOCUMENT_LEVEL_admin_8_1.txt</td>\n",
       "      <td>deepseek-r1_32b - FULL_admin_8_1.txt</td>\n",
       "      <td>1.0</td>\n",
       "    </tr>\n",
       "    <tr>\n",
       "      <th>78513</th>\n",
       "      <td>deepseek-r1_32b - DOCUMENT_LEVEL_admin_8_1.txt</td>\n",
       "      <td>deepseek-r1_32b - KG_ONLY_admin_8_1.txt</td>\n",
       "      <td>1.0</td>\n",
       "    </tr>\n",
       "  </tbody>\n",
       "</table>\n",
       "</div>"
      ],
      "text/plain": [
       "                                            response1  \\\n",
       "77918          deepseek-r1_32b - CHUNKS_user1_8_1.txt   \n",
       "77938          deepseek-r1_32b - CHUNKS_user1_8_1.txt   \n",
       "77958          deepseek-r1_32b - CHUNKS_user1_8_1.txt   \n",
       "78493  deepseek-r1_32b - DOCUMENT_LEVEL_admin_8_1.txt   \n",
       "78513  deepseek-r1_32b - DOCUMENT_LEVEL_admin_8_1.txt   \n",
       "\n",
       "                                            response2  similarity  \n",
       "77918  deepseek-r1_32b - DOCUMENT_LEVEL_admin_8_1.txt         1.0  \n",
       "77938            deepseek-r1_32b - FULL_admin_8_1.txt         1.0  \n",
       "77958         deepseek-r1_32b - KG_ONLY_admin_8_1.txt         1.0  \n",
       "78493            deepseek-r1_32b - FULL_admin_8_1.txt         1.0  \n",
       "78513         deepseek-r1_32b - KG_ONLY_admin_8_1.txt         1.0  "
      ]
     },
     "execution_count": 199,
     "metadata": {},
     "output_type": "execute_result"
    }
   ],
   "source": [
    "from sklearn.metrics.pairwise import cosine_similarity\n",
    "import numpy as np\n",
    "\n",
    "def create_similarity_matrix(df: pd.DataFrame) -> pd.DataFrame:\n",
    "    \"\"\"\n",
    "    Create a DataFrame containing cosine similarities between all embeddings.\n",
    "    \n",
    "    Args:\n",
    "        df: DataFrame containing embeddings and metadata\n",
    "        \n",
    "    Returns:\n",
    "        pd.DataFrame: DataFrame with cosine similarities and metadata\n",
    "    \"\"\"\n",
    "    # Get embedding columns\n",
    "    embedding_cols = [col for col in df.columns if col.startswith('dim_')]\n",
    "    \n",
    "    # Calculate cosine similarity matrix\n",
    "    similarities = cosine_similarity(df[embedding_cols])\n",
    "    \n",
    "    # Create identifiers for each row\n",
    "    identifiers = df.apply(\n",
    "        lambda row: f\"{row['model']} - {row['filename']}\", \n",
    "        axis=1\n",
    "    ).values\n",
    "    \n",
    "    # Create similarity DataFrame with identifiers\n",
    "    similarity_df = pd.DataFrame(\n",
    "        similarities,\n",
    "        index=identifiers,\n",
    "        columns=identifiers\n",
    "    )\n",
    "    \n",
    "    return similarity_df\n",
    "\n",
    "# Create similarity matrix\n",
    "similarity_df = create_similarity_matrix(embeddings_df)\n",
    "\n",
    "# Display sample of the matrix\n",
    "print(\"\\nSimilarity Matrix Shape:\", similarity_df.shape)\n",
    "# print(\"\\nSample of Similarity Matrix:\")\n",
    "# print(similarity_df.iloc[:5, :5])\n",
    "\n",
    "# Save to parquet\n",
    "similarity_df.to_parquet('./results/response_similarities.parquet')\n",
    "\n",
    "# Optional: Find most similar pairs (excluding self-similarity)\n",
    "def get_top_similarities(sim_df: pd.DataFrame, n: int = 10) -> pd.DataFrame:\n",
    "    \"\"\"\n",
    "    Get the top N most similar pairs of responses.\n",
    "    \n",
    "    Args:\n",
    "        sim_df: Similarity matrix DataFrame\n",
    "        n: Number of top pairs to return\n",
    "        \n",
    "    Returns:\n",
    "        pd.DataFrame: DataFrame with top similar pairs\n",
    "    \"\"\"\n",
    "    # Create pairs DataFrame\n",
    "    pairs = []\n",
    "    for i in range(len(sim_df)):\n",
    "        for j in range(i + 1, len(sim_df)):  # Only upper triangle to avoid duplicates\n",
    "            pairs.append({\n",
    "                'response1': sim_df.index[i],\n",
    "                'response2': sim_df.index[j],\n",
    "                'similarity': sim_df.iloc[i, j]\n",
    "            })\n",
    "    \n",
    "    pairs_df = pd.DataFrame(pairs)\n",
    "    return pairs_df.nlargest(n, 'similarity')\n",
    "\n",
    "# Get top similar pairs\n",
    "top_pairs = get_top_similarities(similarity_df, n=20)\n",
    "print(\"\\nTop 20 Most Similar Pairs:\")\n",
    "top_pairs.head()"
   ]
  },
  {
   "cell_type": "code",
   "execution_count": 200,
   "metadata": {},
   "outputs": [
    {
     "name": "stdout",
     "output_type": "stream",
     "text": [
      "\n",
      "Shape of transformed DataFrame: (79800, 5)\n",
      "\n",
      "Sample of highest similarity pairs:\n"
     ]
    },
    {
     "data": {
      "text/html": [
       "<div>\n",
       "<style scoped>\n",
       "    .dataframe tbody tr th:only-of-type {\n",
       "        vertical-align: middle;\n",
       "    }\n",
       "\n",
       "    .dataframe tbody tr th {\n",
       "        vertical-align: top;\n",
       "    }\n",
       "\n",
       "    .dataframe thead th {\n",
       "        text-align: right;\n",
       "    }\n",
       "</style>\n",
       "<table border=\"1\" class=\"dataframe\">\n",
       "  <thead>\n",
       "    <tr style=\"text-align: right;\">\n",
       "      <th></th>\n",
       "      <th>response_1_model</th>\n",
       "      <th>response_1_filename</th>\n",
       "      <th>response_2_model</th>\n",
       "      <th>response_2_filename</th>\n",
       "      <th>similarity</th>\n",
       "    </tr>\n",
       "  </thead>\n",
       "  <tbody>\n",
       "    <tr>\n",
       "      <th>77958</th>\n",
       "      <td>deepseek-r1_32b</td>\n",
       "      <td>CHUNKS_user1_8_1.txt</td>\n",
       "      <td>deepseek-r1_32b</td>\n",
       "      <td>KG_ONLY_admin_8_1.txt</td>\n",
       "      <td>1.000000</td>\n",
       "    </tr>\n",
       "    <tr>\n",
       "      <th>77938</th>\n",
       "      <td>deepseek-r1_32b</td>\n",
       "      <td>CHUNKS_user1_8_1.txt</td>\n",
       "      <td>deepseek-r1_32b</td>\n",
       "      <td>FULL_admin_8_1.txt</td>\n",
       "      <td>1.000000</td>\n",
       "    </tr>\n",
       "    <tr>\n",
       "      <th>78493</th>\n",
       "      <td>deepseek-r1_32b</td>\n",
       "      <td>DOCUMENT_LEVEL_admin_8_1.txt</td>\n",
       "      <td>deepseek-r1_32b</td>\n",
       "      <td>FULL_admin_8_1.txt</td>\n",
       "      <td>1.000000</td>\n",
       "    </tr>\n",
       "    <tr>\n",
       "      <th>79323</th>\n",
       "      <td>deepseek-r1_32b</td>\n",
       "      <td>FULL_admin_8_1.txt</td>\n",
       "      <td>deepseek-r1_32b</td>\n",
       "      <td>KG_ONLY_admin_8_1.txt</td>\n",
       "      <td>1.000000</td>\n",
       "    </tr>\n",
       "    <tr>\n",
       "      <th>77918</th>\n",
       "      <td>deepseek-r1_32b</td>\n",
       "      <td>CHUNKS_user1_8_1.txt</td>\n",
       "      <td>deepseek-r1_32b</td>\n",
       "      <td>DOCUMENT_LEVEL_admin_8_1.txt</td>\n",
       "      <td>1.000000</td>\n",
       "    </tr>\n",
       "    <tr>\n",
       "      <th>...</th>\n",
       "      <td>...</td>\n",
       "      <td>...</td>\n",
       "      <td>...</td>\n",
       "      <td>...</td>\n",
       "      <td>...</td>\n",
       "    </tr>\n",
       "    <tr>\n",
       "      <th>36304</th>\n",
       "      <td>mistral-small_24b</td>\n",
       "      <td>DOCUMENT_LEVEL_admin_4_1.txt</td>\n",
       "      <td>deepseek-r1_1.5b</td>\n",
       "      <td>DOCUMENT_LEVEL_admin_9_1.txt</td>\n",
       "      <td>-0.104718</td>\n",
       "    </tr>\n",
       "    <tr>\n",
       "      <th>44689</th>\n",
       "      <td>mistral-small_24b</td>\n",
       "      <td>FULL_user1_4_1.txt</td>\n",
       "      <td>deepseek-r1_1.5b</td>\n",
       "      <td>DOCUMENT_LEVEL_admin_9_1.txt</td>\n",
       "      <td>-0.105722</td>\n",
       "    </tr>\n",
       "    <tr>\n",
       "      <th>71369</th>\n",
       "      <td>deepseek-r1_1.5b</td>\n",
       "      <td>DOCUMENT_LEVEL_admin_9_1.txt</td>\n",
       "      <td>deepseek-r1_32b</td>\n",
       "      <td>DOCUMENT_LEVEL_user1_4_1.txt</td>\n",
       "      <td>-0.111688</td>\n",
       "    </tr>\n",
       "    <tr>\n",
       "      <th>71349</th>\n",
       "      <td>deepseek-r1_1.5b</td>\n",
       "      <td>DOCUMENT_LEVEL_admin_9_1.txt</td>\n",
       "      <td>deepseek-r1_32b</td>\n",
       "      <td>CHUNKS_user1_4_1.txt</td>\n",
       "      <td>-0.113390</td>\n",
       "    </tr>\n",
       "    <tr>\n",
       "      <th>41994</th>\n",
       "      <td>mistral-small_24b</td>\n",
       "      <td>FULL_admin_4_1.txt</td>\n",
       "      <td>deepseek-r1_1.5b</td>\n",
       "      <td>DOCUMENT_LEVEL_admin_9_1.txt</td>\n",
       "      <td>-0.118050</td>\n",
       "    </tr>\n",
       "  </tbody>\n",
       "</table>\n",
       "<p>79800 rows × 5 columns</p>\n",
       "</div>"
      ],
      "text/plain": [
       "        response_1_model           response_1_filename  response_2_model  \\\n",
       "77958    deepseek-r1_32b          CHUNKS_user1_8_1.txt   deepseek-r1_32b   \n",
       "77938    deepseek-r1_32b          CHUNKS_user1_8_1.txt   deepseek-r1_32b   \n",
       "78493    deepseek-r1_32b  DOCUMENT_LEVEL_admin_8_1.txt   deepseek-r1_32b   \n",
       "79323    deepseek-r1_32b            FULL_admin_8_1.txt   deepseek-r1_32b   \n",
       "77918    deepseek-r1_32b          CHUNKS_user1_8_1.txt   deepseek-r1_32b   \n",
       "...                  ...                           ...               ...   \n",
       "36304  mistral-small_24b  DOCUMENT_LEVEL_admin_4_1.txt  deepseek-r1_1.5b   \n",
       "44689  mistral-small_24b            FULL_user1_4_1.txt  deepseek-r1_1.5b   \n",
       "71369   deepseek-r1_1.5b  DOCUMENT_LEVEL_admin_9_1.txt   deepseek-r1_32b   \n",
       "71349   deepseek-r1_1.5b  DOCUMENT_LEVEL_admin_9_1.txt   deepseek-r1_32b   \n",
       "41994  mistral-small_24b            FULL_admin_4_1.txt  deepseek-r1_1.5b   \n",
       "\n",
       "                response_2_filename  similarity  \n",
       "77958         KG_ONLY_admin_8_1.txt    1.000000  \n",
       "77938            FULL_admin_8_1.txt    1.000000  \n",
       "78493            FULL_admin_8_1.txt    1.000000  \n",
       "79323         KG_ONLY_admin_8_1.txt    1.000000  \n",
       "77918  DOCUMENT_LEVEL_admin_8_1.txt    1.000000  \n",
       "...                             ...         ...  \n",
       "36304  DOCUMENT_LEVEL_admin_9_1.txt   -0.104718  \n",
       "44689  DOCUMENT_LEVEL_admin_9_1.txt   -0.105722  \n",
       "71369  DOCUMENT_LEVEL_user1_4_1.txt   -0.111688  \n",
       "71349          CHUNKS_user1_4_1.txt   -0.113390  \n",
       "41994  DOCUMENT_LEVEL_admin_9_1.txt   -0.118050  \n",
       "\n",
       "[79800 rows x 5 columns]"
      ]
     },
     "execution_count": 200,
     "metadata": {},
     "output_type": "execute_result"
    }
   ],
   "source": [
    "def create_similarity_pairs_df(similarity_df: pd.DataFrame) -> pd.DataFrame:\n",
    "    \"\"\"\n",
    "    Transform similarity matrix into a long-format DataFrame with paired responses.\n",
    "    \n",
    "    Args:\n",
    "        similarity_df: DataFrame containing similarity matrix\n",
    "        \n",
    "    Returns:\n",
    "        pd.DataFrame: Long-format DataFrame with columns for response pairs and their similarity\n",
    "    \"\"\"\n",
    "    # Create empty lists to store the data\n",
    "    pairs = []\n",
    "    \n",
    "    # Iterate through upper triangle of matrix (excluding diagonal)\n",
    "    for i in range(len(similarity_df)):\n",
    "        for j in range(i + 1, len(similarity_df)):\n",
    "            # Get response identifiers\n",
    "            response1 = similarity_df.index[i]\n",
    "            response2 = similarity_df.columns[j]\n",
    "            \n",
    "            # Split identifiers into model and filename\n",
    "            response1_model, response1_filename = response1.split(\" - \", 1)\n",
    "            response2_model, response2_filename = response2.split(\" - \", 1)\n",
    "            \n",
    "            # Get similarity score\n",
    "            similarity = similarity_df.iloc[i, j]\n",
    "            \n",
    "            # Add to pairs list\n",
    "            pairs.append({\n",
    "                'response_1_model': response1_model,\n",
    "                'response_1_filename': response1_filename,\n",
    "                'response_2_model': response2_model,\n",
    "                'response_2_filename': response2_filename,\n",
    "                'similarity': similarity\n",
    "            })\n",
    "    \n",
    "    # Create DataFrame from pairs\n",
    "    pairs_df = pd.DataFrame(pairs)\n",
    "    \n",
    "    # Sort by similarity in descending order\n",
    "    pairs_df = pairs_df.sort_values('similarity', ascending=False)\n",
    "    \n",
    "    return pairs_df\n",
    "\n",
    "# Create the transformed DataFrame\n",
    "similarity_pairs_df = create_similarity_pairs_df(similarity_df)\n",
    "\n",
    "# Display sample and save\n",
    "print(\"\\nShape of transformed DataFrame:\", similarity_pairs_df.shape)\n",
    "print(\"\\nSample of highest similarity pairs:\")\n",
    "# print(similarity_pairs_df.head())\n",
    "\n",
    "# Save to CSV\n",
    "similarity_pairs_df.to_csv('./results/response_similarity_pairs.csv', index=False)\n",
    "similarity_pairs_df"
   ]
  },
  {
   "cell_type": "markdown",
   "metadata": {},
   "source": [
    "## Inter-Model Consistency Analysis:"
   ]
  },
  {
   "cell_type": "code",
   "execution_count": 201,
   "metadata": {},
   "outputs": [
    {
     "name": "stdout",
     "output_type": "stream",
     "text": [
      "\n",
      "Model Self-Consistency:\n",
      "                     mean     std\n",
      "response_1_model                 \n",
      "deepseek-r1_1.5b   0.3150  0.1793\n",
      "deepseek-r1_32b    0.3404  0.2116\n",
      "mistral-small_24b  0.3323  0.2014\n",
      "qwen2.5_3b         0.3372  0.1766\n",
      "qwen2.5_7b         0.3594  0.1810\n",
      "\n",
      "Cross-Model Agreement:\n"
     ]
    },
    {
     "data": {
      "text/html": [
       "<div>\n",
       "<style scoped>\n",
       "    .dataframe tbody tr th:only-of-type {\n",
       "        vertical-align: middle;\n",
       "    }\n",
       "\n",
       "    .dataframe tbody tr th {\n",
       "        vertical-align: top;\n",
       "    }\n",
       "\n",
       "    .dataframe thead th {\n",
       "        text-align: right;\n",
       "    }\n",
       "</style>\n",
       "<table border=\"1\" class=\"dataframe\">\n",
       "  <thead>\n",
       "    <tr style=\"text-align: right;\">\n",
       "      <th></th>\n",
       "      <th>response_1_model</th>\n",
       "      <th>response_2_model</th>\n",
       "      <th>similarity</th>\n",
       "    </tr>\n",
       "  </thead>\n",
       "  <tbody>\n",
       "    <tr>\n",
       "      <th>0</th>\n",
       "      <td>deepseek-r1_1.5b</td>\n",
       "      <td>deepseek-r1_32b</td>\n",
       "      <td>0.3237</td>\n",
       "    </tr>\n",
       "    <tr>\n",
       "      <th>1</th>\n",
       "      <td>mistral-small_24b</td>\n",
       "      <td>deepseek-r1_1.5b</td>\n",
       "      <td>0.3207</td>\n",
       "    </tr>\n",
       "    <tr>\n",
       "      <th>2</th>\n",
       "      <td>mistral-small_24b</td>\n",
       "      <td>deepseek-r1_32b</td>\n",
       "      <td>0.3354</td>\n",
       "    </tr>\n",
       "    <tr>\n",
       "      <th>3</th>\n",
       "      <td>mistral-small_24b</td>\n",
       "      <td>qwen2.5_3b</td>\n",
       "      <td>0.3314</td>\n",
       "    </tr>\n",
       "    <tr>\n",
       "      <th>4</th>\n",
       "      <td>qwen2.5_3b</td>\n",
       "      <td>deepseek-r1_1.5b</td>\n",
       "      <td>0.3213</td>\n",
       "    </tr>\n",
       "    <tr>\n",
       "      <th>5</th>\n",
       "      <td>qwen2.5_3b</td>\n",
       "      <td>deepseek-r1_32b</td>\n",
       "      <td>0.3321</td>\n",
       "    </tr>\n",
       "    <tr>\n",
       "      <th>6</th>\n",
       "      <td>qwen2.5_7b</td>\n",
       "      <td>deepseek-r1_1.5b</td>\n",
       "      <td>0.3329</td>\n",
       "    </tr>\n",
       "    <tr>\n",
       "      <th>7</th>\n",
       "      <td>qwen2.5_7b</td>\n",
       "      <td>deepseek-r1_32b</td>\n",
       "      <td>0.3440</td>\n",
       "    </tr>\n",
       "    <tr>\n",
       "      <th>8</th>\n",
       "      <td>qwen2.5_7b</td>\n",
       "      <td>mistral-small_24b</td>\n",
       "      <td>0.3424</td>\n",
       "    </tr>\n",
       "    <tr>\n",
       "      <th>9</th>\n",
       "      <td>qwen2.5_7b</td>\n",
       "      <td>qwen2.5_3b</td>\n",
       "      <td>0.3516</td>\n",
       "    </tr>\n",
       "  </tbody>\n",
       "</table>\n",
       "</div>"
      ],
      "text/plain": [
       "    response_1_model   response_2_model  similarity\n",
       "0   deepseek-r1_1.5b    deepseek-r1_32b      0.3237\n",
       "1  mistral-small_24b   deepseek-r1_1.5b      0.3207\n",
       "2  mistral-small_24b    deepseek-r1_32b      0.3354\n",
       "3  mistral-small_24b         qwen2.5_3b      0.3314\n",
       "4         qwen2.5_3b   deepseek-r1_1.5b      0.3213\n",
       "5         qwen2.5_3b    deepseek-r1_32b      0.3321\n",
       "6         qwen2.5_7b   deepseek-r1_1.5b      0.3329\n",
       "7         qwen2.5_7b    deepseek-r1_32b      0.3440\n",
       "8         qwen2.5_7b  mistral-small_24b      0.3424\n",
       "9         qwen2.5_7b         qwen2.5_3b      0.3516"
      ]
     },
     "execution_count": 201,
     "metadata": {},
     "output_type": "execute_result"
    }
   ],
   "source": [
    "def analyze_model_consistency(similarity_pairs_df: pd.DataFrame) -> pd.DataFrame:\n",
    "    \"\"\"\n",
    "    Analyze how consistent each model's responses are with itself and other models.\n",
    "    \n",
    "    Args:\n",
    "        similarity_pairs_df: DataFrame with similarity pairs\n",
    "        \n",
    "    Returns:\n",
    "        pd.DataFrame: Statistics about model consistency\n",
    "    \"\"\"\n",
    "    # Self-consistency (how similar are responses from the same model)\n",
    "    self_consistency = similarity_pairs_df[\n",
    "        similarity_pairs_df['response_1_model'] == similarity_pairs_df['response_2_model']\n",
    "    ].groupby('response_1_model')['similarity'].agg(['mean', 'std']).round(4)\n",
    "    \n",
    "    # Cross-model agreement\n",
    "    cross_model = similarity_pairs_df[\n",
    "        similarity_pairs_df['response_1_model'] != similarity_pairs_df['response_2_model']\n",
    "    ].groupby(['response_1_model', 'response_2_model'])['similarity'].mean().round(4)\n",
    "    \n",
    "    return self_consistency, cross_model\n",
    "\n",
    "# Get consistency metrics\n",
    "self_consistency, cross_model = analyze_model_consistency(similarity_pairs_df)\n",
    "print(\"\\nModel Self-Consistency:\")\n",
    "print(self_consistency)\n",
    "print(\"\\nCross-Model Agreement:\")\n",
    "cross_model.reset_index()"
   ]
  },
  {
   "cell_type": "markdown",
   "metadata": {},
   "source": [
    "## Response Type Analysis:"
   ]
  },
  {
   "cell_type": "code",
   "execution_count": 202,
   "metadata": {},
   "outputs": [
    {
     "name": "stdout",
     "output_type": "stream",
     "text": [
      "\n",
      "Response Type Analysis:\n"
     ]
    },
    {
     "data": {
      "text/html": [
       "<div>\n",
       "<style scoped>\n",
       "    .dataframe tbody tr th:only-of-type {\n",
       "        vertical-align: middle;\n",
       "    }\n",
       "\n",
       "    .dataframe tbody tr th {\n",
       "        vertical-align: top;\n",
       "    }\n",
       "\n",
       "    .dataframe thead th {\n",
       "        text-align: right;\n",
       "    }\n",
       "</style>\n",
       "<table border=\"1\" class=\"dataframe\">\n",
       "  <thead>\n",
       "    <tr style=\"text-align: right;\">\n",
       "      <th></th>\n",
       "      <th>response_1_type</th>\n",
       "      <th>response_2_type</th>\n",
       "      <th>response_1_model</th>\n",
       "      <th>mean</th>\n",
       "      <th>std</th>\n",
       "      <th>count</th>\n",
       "    </tr>\n",
       "  </thead>\n",
       "  <tbody>\n",
       "    <tr>\n",
       "      <th>0</th>\n",
       "      <td>CHUNKS</td>\n",
       "      <td>CHUNKS</td>\n",
       "      <td>deepseek-r1_1.5b</td>\n",
       "      <td>0.3347</td>\n",
       "      <td>0.1890</td>\n",
       "      <td>590</td>\n",
       "    </tr>\n",
       "    <tr>\n",
       "      <th>1</th>\n",
       "      <td>CHUNKS</td>\n",
       "      <td>CHUNKS</td>\n",
       "      <td>deepseek-r1_32b</td>\n",
       "      <td>0.3286</td>\n",
       "      <td>0.1938</td>\n",
       "      <td>190</td>\n",
       "    </tr>\n",
       "    <tr>\n",
       "      <th>2</th>\n",
       "      <td>CHUNKS</td>\n",
       "      <td>CHUNKS</td>\n",
       "      <td>mistral-small_24b</td>\n",
       "      <td>0.3438</td>\n",
       "      <td>0.1876</td>\n",
       "      <td>1390</td>\n",
       "    </tr>\n",
       "    <tr>\n",
       "      <th>3</th>\n",
       "      <td>CHUNKS</td>\n",
       "      <td>CHUNKS</td>\n",
       "      <td>qwen2.5_3b</td>\n",
       "      <td>0.3424</td>\n",
       "      <td>0.1817</td>\n",
       "      <td>990</td>\n",
       "    </tr>\n",
       "    <tr>\n",
       "      <th>4</th>\n",
       "      <td>CHUNKS</td>\n",
       "      <td>CHUNKS</td>\n",
       "      <td>qwen2.5_7b</td>\n",
       "      <td>0.3507</td>\n",
       "      <td>0.1831</td>\n",
       "      <td>1790</td>\n",
       "    </tr>\n",
       "    <tr>\n",
       "      <th>...</th>\n",
       "      <td>...</td>\n",
       "      <td>...</td>\n",
       "      <td>...</td>\n",
       "      <td>...</td>\n",
       "      <td>...</td>\n",
       "      <td>...</td>\n",
       "    </tr>\n",
       "    <tr>\n",
       "      <th>69</th>\n",
       "      <td>KG</td>\n",
       "      <td>KG</td>\n",
       "      <td>deepseek-r1_1.5b</td>\n",
       "      <td>0.3106</td>\n",
       "      <td>0.1896</td>\n",
       "      <td>590</td>\n",
       "    </tr>\n",
       "    <tr>\n",
       "      <th>70</th>\n",
       "      <td>KG</td>\n",
       "      <td>KG</td>\n",
       "      <td>deepseek-r1_32b</td>\n",
       "      <td>0.3039</td>\n",
       "      <td>0.2045</td>\n",
       "      <td>190</td>\n",
       "    </tr>\n",
       "    <tr>\n",
       "      <th>71</th>\n",
       "      <td>KG</td>\n",
       "      <td>KG</td>\n",
       "      <td>mistral-small_24b</td>\n",
       "      <td>0.3385</td>\n",
       "      <td>0.1820</td>\n",
       "      <td>1390</td>\n",
       "    </tr>\n",
       "    <tr>\n",
       "      <th>72</th>\n",
       "      <td>KG</td>\n",
       "      <td>KG</td>\n",
       "      <td>qwen2.5_3b</td>\n",
       "      <td>0.3204</td>\n",
       "      <td>0.1673</td>\n",
       "      <td>990</td>\n",
       "    </tr>\n",
       "    <tr>\n",
       "      <th>73</th>\n",
       "      <td>KG</td>\n",
       "      <td>KG</td>\n",
       "      <td>qwen2.5_7b</td>\n",
       "      <td>0.3586</td>\n",
       "      <td>0.1784</td>\n",
       "      <td>1790</td>\n",
       "    </tr>\n",
       "  </tbody>\n",
       "</table>\n",
       "<p>74 rows × 6 columns</p>\n",
       "</div>"
      ],
      "text/plain": [
       "   response_1_type response_2_type   response_1_model    mean     std  count\n",
       "0           CHUNKS          CHUNKS   deepseek-r1_1.5b  0.3347  0.1890    590\n",
       "1           CHUNKS          CHUNKS    deepseek-r1_32b  0.3286  0.1938    190\n",
       "2           CHUNKS          CHUNKS  mistral-small_24b  0.3438  0.1876   1390\n",
       "3           CHUNKS          CHUNKS         qwen2.5_3b  0.3424  0.1817    990\n",
       "4           CHUNKS          CHUNKS         qwen2.5_7b  0.3507  0.1831   1790\n",
       "..             ...             ...                ...     ...     ...    ...\n",
       "69              KG              KG   deepseek-r1_1.5b  0.3106  0.1896    590\n",
       "70              KG              KG    deepseek-r1_32b  0.3039  0.2045    190\n",
       "71              KG              KG  mistral-small_24b  0.3385  0.1820   1390\n",
       "72              KG              KG         qwen2.5_3b  0.3204  0.1673    990\n",
       "73              KG              KG         qwen2.5_7b  0.3586  0.1784   1790\n",
       "\n",
       "[74 rows x 6 columns]"
      ]
     },
     "execution_count": 202,
     "metadata": {},
     "output_type": "execute_result"
    }
   ],
   "source": [
    "def analyze_response_types(similarity_pairs_df: pd.DataFrame) -> pd.DataFrame:\n",
    "    \"\"\"\n",
    "    Analyze how different response types (CHUNKS, DOCUMENT_LEVEL, etc.) compare.\n",
    "    \n",
    "    Args:\n",
    "        similarity_pairs_df: DataFrame with similarity pairs\n",
    "        \n",
    "    Returns:\n",
    "        pd.DataFrame: Statistics about response type consistency\n",
    "    \"\"\"\n",
    "    # Extract response types\n",
    "    similarity_pairs_df['response_1_type'] = similarity_pairs_df['response_1_filename'].apply(\n",
    "        lambda x: x.split('_')[0]\n",
    "    )\n",
    "    similarity_pairs_df['response_2_type'] = similarity_pairs_df['response_2_filename'].apply(\n",
    "        lambda x: x.split('_')[0]\n",
    "    )\n",
    "    \n",
    "    # Analyze consistency within and between response types\n",
    "    type_analysis = similarity_pairs_df.groupby(\n",
    "        ['response_1_type', 'response_2_type', 'response_1_model']\n",
    "    )['similarity'].agg(['mean', 'std', 'count']).round(4)\n",
    "    \n",
    "    return type_analysis\n",
    "\n",
    "# Get response type analysis\n",
    "type_analysis = analyze_response_types(similarity_pairs_df)\n",
    "print(\"\\nResponse Type Analysis:\")\n",
    "type_analysis.reset_index()"
   ]
  },
  {
   "cell_type": "markdown",
   "metadata": {},
   "source": [
    "## Question-Level Analysis:"
   ]
  },
  {
   "cell_type": "code",
   "execution_count": 203,
   "metadata": {},
   "outputs": [
    {
     "name": "stdout",
     "output_type": "stream",
     "text": [
      "\n",
      "Question-Level Analysis:\n"
     ]
    },
    {
     "data": {
      "text/html": [
       "<div>\n",
       "<style scoped>\n",
       "    .dataframe tbody tr th:only-of-type {\n",
       "        vertical-align: middle;\n",
       "    }\n",
       "\n",
       "    .dataframe tbody tr th {\n",
       "        vertical-align: top;\n",
       "    }\n",
       "\n",
       "    .dataframe thead th {\n",
       "        text-align: right;\n",
       "    }\n",
       "</style>\n",
       "<table border=\"1\" class=\"dataframe\">\n",
       "  <thead>\n",
       "    <tr style=\"text-align: right;\">\n",
       "      <th></th>\n",
       "      <th>question_1</th>\n",
       "      <th>response_1_model</th>\n",
       "      <th>response_2_model</th>\n",
       "      <th>similarity</th>\n",
       "    </tr>\n",
       "  </thead>\n",
       "  <tbody>\n",
       "    <tr>\n",
       "      <th>0</th>\n",
       "      <td>LEVEL_admin</td>\n",
       "      <td>deepseek-r1_1.5b</td>\n",
       "      <td>deepseek-r1_1.5b</td>\n",
       "      <td>0.2607</td>\n",
       "    </tr>\n",
       "    <tr>\n",
       "      <th>1</th>\n",
       "      <td>LEVEL_admin</td>\n",
       "      <td>deepseek-r1_1.5b</td>\n",
       "      <td>deepseek-r1_32b</td>\n",
       "      <td>0.3230</td>\n",
       "    </tr>\n",
       "    <tr>\n",
       "      <th>2</th>\n",
       "      <td>LEVEL_admin</td>\n",
       "      <td>deepseek-r1_32b</td>\n",
       "      <td>deepseek-r1_32b</td>\n",
       "      <td>0.3077</td>\n",
       "    </tr>\n",
       "    <tr>\n",
       "      <th>3</th>\n",
       "      <td>LEVEL_admin</td>\n",
       "      <td>mistral-small_24b</td>\n",
       "      <td>deepseek-r1_1.5b</td>\n",
       "      <td>0.3051</td>\n",
       "    </tr>\n",
       "    <tr>\n",
       "      <th>4</th>\n",
       "      <td>LEVEL_admin</td>\n",
       "      <td>mistral-small_24b</td>\n",
       "      <td>deepseek-r1_32b</td>\n",
       "      <td>0.3368</td>\n",
       "    </tr>\n",
       "    <tr>\n",
       "      <th>...</th>\n",
       "      <td>...</td>\n",
       "      <td>...</td>\n",
       "      <td>...</td>\n",
       "      <td>...</td>\n",
       "    </tr>\n",
       "    <tr>\n",
       "      <th>355</th>\n",
       "      <td>user1_9</td>\n",
       "      <td>qwen2.5_7b</td>\n",
       "      <td>deepseek-r1_1.5b</td>\n",
       "      <td>0.8276</td>\n",
       "    </tr>\n",
       "    <tr>\n",
       "      <th>356</th>\n",
       "      <td>user1_9</td>\n",
       "      <td>qwen2.5_7b</td>\n",
       "      <td>deepseek-r1_32b</td>\n",
       "      <td>0.8747</td>\n",
       "    </tr>\n",
       "    <tr>\n",
       "      <th>357</th>\n",
       "      <td>user1_9</td>\n",
       "      <td>qwen2.5_7b</td>\n",
       "      <td>mistral-small_24b</td>\n",
       "      <td>0.8329</td>\n",
       "    </tr>\n",
       "    <tr>\n",
       "      <th>358</th>\n",
       "      <td>user1_9</td>\n",
       "      <td>qwen2.5_7b</td>\n",
       "      <td>qwen2.5_3b</td>\n",
       "      <td>0.7939</td>\n",
       "    </tr>\n",
       "    <tr>\n",
       "      <th>359</th>\n",
       "      <td>user1_9</td>\n",
       "      <td>qwen2.5_7b</td>\n",
       "      <td>qwen2.5_7b</td>\n",
       "      <td>0.8642</td>\n",
       "    </tr>\n",
       "  </tbody>\n",
       "</table>\n",
       "<p>360 rows × 4 columns</p>\n",
       "</div>"
      ],
      "text/plain": [
       "      question_1   response_1_model   response_2_model  similarity\n",
       "0    LEVEL_admin   deepseek-r1_1.5b   deepseek-r1_1.5b      0.2607\n",
       "1    LEVEL_admin   deepseek-r1_1.5b    deepseek-r1_32b      0.3230\n",
       "2    LEVEL_admin    deepseek-r1_32b    deepseek-r1_32b      0.3077\n",
       "3    LEVEL_admin  mistral-small_24b   deepseek-r1_1.5b      0.3051\n",
       "4    LEVEL_admin  mistral-small_24b    deepseek-r1_32b      0.3368\n",
       "..           ...                ...                ...         ...\n",
       "355      user1_9         qwen2.5_7b   deepseek-r1_1.5b      0.8276\n",
       "356      user1_9         qwen2.5_7b    deepseek-r1_32b      0.8747\n",
       "357      user1_9         qwen2.5_7b  mistral-small_24b      0.8329\n",
       "358      user1_9         qwen2.5_7b         qwen2.5_3b      0.7939\n",
       "359      user1_9         qwen2.5_7b         qwen2.5_7b      0.8642\n",
       "\n",
       "[360 rows x 4 columns]"
      ]
     },
     "execution_count": 203,
     "metadata": {},
     "output_type": "execute_result"
    }
   ],
   "source": [
    "def analyze_question_responses(similarity_pairs_df: pd.DataFrame) -> pd.DataFrame:\n",
    "    \"\"\"\n",
    "    Compare how different models answered the same questions.\n",
    "    \n",
    "    Args:\n",
    "        similarity_pairs_df: DataFrame with similarity pairs\n",
    "        \n",
    "    Returns:\n",
    "        pd.DataFrame: Question-level analysis\n",
    "    \"\"\"\n",
    "    # Extract question numbers\n",
    "    similarity_pairs_df['question_1'] = similarity_pairs_df['response_1_filename'].apply(\n",
    "        lambda x: '_'.join(x.split('_')[1:3])  # Gets e.g., 'admin_1'\n",
    "    )\n",
    "    similarity_pairs_df['question_2'] = similarity_pairs_df['response_2_filename'].apply(\n",
    "        lambda x: '_'.join(x.split('_')[1:3])\n",
    "    )\n",
    "    \n",
    "    # Analyze same-question responses across models\n",
    "    question_analysis = similarity_pairs_df[\n",
    "        similarity_pairs_df['question_1'] == similarity_pairs_df['question_2']\n",
    "    ].groupby(['question_1', 'response_1_model', 'response_2_model'])['similarity'].mean().round(4)\n",
    "    \n",
    "    return question_analysis\n",
    "\n",
    "# Get question-level analysis\n",
    "question_analysis = analyze_question_responses(similarity_pairs_df)\n",
    "print(\"\\nQuestion-Level Analysis:\")\n",
    "question_analysis.reset_index()"
   ]
  },
  {
   "cell_type": "markdown",
   "metadata": {},
   "source": [
    "## Viz"
   ]
  },
  {
   "cell_type": "code",
   "execution_count": 204,
   "metadata": {},
   "outputs": [],
   "source": [
    "import seaborn as sns\n",
    "import matplotlib.pyplot as plt\n",
    "\n",
    "def plot_model_comparisons(similarity_pairs_df: pd.DataFrame):\n",
    "    \"\"\"\n",
    "    Create heatmap visualizations of model similarities.\n",
    "    \"\"\"\n",
    "    # Create model similarity matrix\n",
    "    model_similarities = similarity_pairs_df.groupby(\n",
    "        ['response_1_model', 'response_2_model']\n",
    "    )['similarity'].mean().unstack()\n",
    "    \n",
    "    # Plot heatmap\n",
    "    plt.figure(figsize=(10, 8))\n",
    "    sns.heatmap(\n",
    "        model_similarities, \n",
    "        annot=True, \n",
    "        cmap='magma',\n",
    "        center=0,\n",
    "        fmt='.3f'\n",
    "    )\n",
    "    plt.title('Average Response Similarity Between Models')\n",
    "    plt.tight_layout()\n",
    "    plt.savefig('./results/model_similarities_heatmap.png')\n",
    "    plt.close()\n",
    "\n",
    "# Create visualization\n",
    "plot_model_comparisons(similarity_pairs_df)"
   ]
  },
  {
   "cell_type": "code",
   "execution_count": null,
   "metadata": {},
   "outputs": [],
   "source": []
  }
 ],
 "metadata": {
  "kernelspec": {
   "display_name": "venv",
   "language": "python",
   "name": "python3"
  },
  "language_info": {
   "codemirror_mode": {
    "name": "ipython",
    "version": 3
   },
   "file_extension": ".py",
   "mimetype": "text/x-python",
   "name": "python",
   "nbconvert_exporter": "python",
   "pygments_lexer": "ipython3",
   "version": "3.11.10"
  }
 },
 "nbformat": 4,
 "nbformat_minor": 2
}
